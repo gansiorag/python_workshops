{
 "cells": [
  {
   "cell_type": "code",
   "execution_count": 1,
   "metadata": {},
   "outputs": [],
   "source": [
    "import pandas as pd"
   ]
  },
  {
   "cell_type": "code",
   "execution_count": 2,
   "metadata": {},
   "outputs": [],
   "source": [
    "tariff_broadband_df = pd.read_excel(r'Тарифы.xlsx', names=['account', 'connected', 'tariff', 'IP', 'lease'])\n",
    "payment_broadband_df = pd.read_excel(r'Оплата.xlsx', names=['account', 'datetime', 'amount', 'method']);\n",
    "CC_call_df = pd.read_excel(r'Обращения в КЦ.xlsx', names=['date', 'time', 'duration', 'account', 'region', 'theme', 'type'])\n",
    "change_tariff_broadband_df = pd.read_excel(r'Изменения тарифов.xlsx', names=['account', 'datetime', 'new_tariff', 'old_tariff']);\n",
    "\n",
    "#tariff_broadband_df['connected'] = tariff_broadband_df['connected'].astype('datetime64').dt.date\n",
    "#payment_broadband_df['datetime'] = payment_broadband_df['datetime'].astype('datetime64').dt.date\n",
    "#CC_call_df['date'] = CC_call_df['date'].astype('datetime64').dt.date\n",
    "change_tariff_broadband_df['datetime'] = change_tariff_broadband_df['datetime'].astype('datetime64').dt.date"
   ]
  },
  {
   "cell_type": "markdown",
   "metadata": {},
   "source": [
    "<h4>1. Укажите три самых частых тарифа</h4>"
   ]
  },
  {
   "cell_type": "code",
   "execution_count": 3,
   "metadata": {},
   "outputs": [
    {
     "name": "stdout",
     "output_type": "stream",
     "text": [
      "План А          10167\n",
      "Средний план     2397\n",
      "Камбэк 250       2396\n",
      "Name: tariff, dtype: int64\n"
     ]
    }
   ],
   "source": [
    "print(tariff_broadband_df['tariff'].value_counts()[:3])"
   ]
  },
  {
   "cell_type": "markdown",
   "metadata": {},
   "source": [
    "<h4>2. Укажите месяц с самым большим количеством подключений</h4>"
   ]
  },
  {
   "cell_type": "code",
   "execution_count": 4,
   "metadata": {},
   "outputs": [
    {
     "name": "stdout",
     "output_type": "stream",
     "text": [
      "Месяц с максимальным кол. -  10\n"
     ]
    }
   ],
   "source": [
    "print(\"Месяц с максимальным кол. - \", tariff_broadband_df.set_index('connected').resample('M').size().idxmax().month)"
   ]
  },
  {
   "cell_type": "markdown",
   "metadata": {},
   "source": [
    "<h4>3. Найдите корреляцию между наличием у абонента статического IP адреса и наличием роутера в аренде. Что можно сказать о связи друг с другом этих свойств?</h4>"
   ]
  },
  {
   "cell_type": "code",
   "execution_count": 5,
   "metadata": {},
   "outputs": [
    {
     "name": "stdout",
     "output_type": "stream",
     "text": [
      "-0.040385354255088504\n"
     ]
    }
   ],
   "source": [
    "print(tariff_broadband_df['IP'].corr(tariff_broadband_df['lease']))"
   ]
  },
  {
   "cell_type": "markdown",
   "metadata": {},
   "source": [
    "-0.040385354255088504\n",
    "Связь между этими свойствами очень слабая и она не достоверна. Она меньше критического значения корреляции Пирсона для степеней свободы больше 1000"
   ]
  },
  {
   "cell_type": "markdown",
   "metadata": {},
   "source": [
    "<h4>4. Определите среднее, моду, медиану, 1 и 3 квартили (Q1 и Q3) поступивших платежей</h4>"
   ]
  },
  {
   "cell_type": "code",
   "execution_count": 6,
   "metadata": {},
   "outputs": [
    {
     "name": "stdout",
     "output_type": "stream",
     "text": [
      "Средний платеж -  481.58725996452915\n",
      "Медиана платежей -  500.0\n",
      "Мода платежей -  0    500.0\n",
      "dtype: float64\n",
      "Q1 -  250.0\n",
      "Q3 -  590.0\n"
     ]
    }
   ],
   "source": [
    "print(\"Средний платеж - \",payment_broadband_df['amount'].mean())\n",
    "print(\"Медиана платежей - \",payment_broadband_df['amount'].median())\n",
    "print(\"Мода платежей - \",payment_broadband_df['amount'].mode())\n",
    "print(\"Q1 - \",payment_broadband_df['amount'].quantile(q=0.25))\n",
    "print(\"Q3 - \",payment_broadband_df['amount'].quantile(q=0.75))"
   ]
  },
  {
   "cell_type": "markdown",
   "metadata": {},
   "source": [
    "<h4>5. Определите месяц с наибольшей суммой платежей</h4>"
   ]
  },
  {
   "cell_type": "code",
   "execution_count": 7,
   "metadata": {},
   "outputs": [
    {
     "name": "stdout",
     "output_type": "stream",
     "text": [
      "Месяц -  12\n"
     ]
    }
   ],
   "source": [
    "print(\"Месяц - \",payment_broadband_df.set_index('datetime').resample('M')['amount'].sum().idxmax().month)"
   ]
  },
  {
   "cell_type": "markdown",
   "metadata": {},
   "source": [
    "<h4>6. Найдите 3 договора, заплативших наибольшую сумму</h4>"
   ]
  },
  {
   "cell_type": "code",
   "execution_count": 8,
   "metadata": {},
   "outputs": [
    {
     "name": "stdout",
     "output_type": "stream",
     "text": [
      "account\n",
      "1219811    19516.0\n",
      "1532729    20000.0\n",
      "781442     29000.0\n",
      "Name: amount, dtype: float64\n"
     ]
    }
   ],
   "source": [
    "print(payment_broadband_df.groupby('account')['amount'].sum().sort_values()[-3:])"
   ]
  },
  {
   "cell_type": "markdown",
   "metadata": {},
   "source": [
    "<h4>7. Найдите самый частый метод оплаты у клиентов, подключившихся в октябре</h4>"
   ]
  },
  {
   "cell_type": "code",
   "execution_count": 9,
   "metadata": {},
   "outputs": [
    {
     "name": "stdout",
     "output_type": "stream",
     "text": [
      "Самый частый способ -  Альфа\n"
     ]
    }
   ],
   "source": [
    "start_date='2018-10-01'\n",
    "end_date='2018-10-31'\n",
    "mask = (payment_broadband_df['datetime'] >= start_date) & (payment_broadband_df['datetime'] <= end_date)\n",
    "data_oct=payment_broadband_df.loc[mask]\n",
    "print(\"Самый частый способ - \", data_oct['method'].value_counts().idxmax())"
   ]
  },
  {
   "cell_type": "markdown",
   "metadata": {},
   "source": [
    "<h4>8. Найдите 3 договора, на которых наиболее часто меняли тарифы</h4>"
   ]
  },
  {
   "cell_type": "code",
   "execution_count": 10,
   "metadata": {},
   "outputs": [
    {
     "name": "stdout",
     "output_type": "stream",
     "text": [
      "account\n",
      "298677    20\n",
      "157175    22\n",
      "105594    26\n",
      "dtype: int64\n"
     ]
    }
   ],
   "source": [
    "print(change_tariff_broadband_df.groupby('account').size().sort_values()[-3:])"
   ]
  },
  {
   "cell_type": "markdown",
   "metadata": {},
   "source": [
    "<h4>9. Укажите тариф, с которого \"уходили\" (переключались на другой) чащей всего</h4>"
   ]
  },
  {
   "cell_type": "code",
   "execution_count": 11,
   "metadata": {},
   "outputs": [
    {
     "name": "stdout",
     "output_type": "stream",
     "text": [
      "План А\n"
     ]
    }
   ],
   "source": [
    "print(change_tariff_broadband_df.groupby('old_tariff').size().idxmax())"
   ]
  },
  {
   "cell_type": "markdown",
   "metadata": {},
   "source": [
    "<h4>10. Укажите договор клиента, который подключившись в 2018 году, обращался в КЦ чаще всего</h4>"
   ]
  },
  {
   "cell_type": "code",
   "execution_count": 12,
   "metadata": {},
   "outputs": [
    {
     "name": "stdout",
     "output_type": "stream",
     "text": [
      "Договор 2 -  244516\n"
     ]
    }
   ],
   "source": [
    "klient=tariff_broadband_df.loc[tariff_broadband_df['connected'] >= '2018-01-01']\n",
    "res_mas=CC_call_df.merge(klient)\n",
    "print(\"Договор 2 - \",res_mas.groupby('account').size().idxmax())"
   ]
  },
  {
   "cell_type": "markdown",
   "metadata": {},
   "source": [
    "<h4>11. Укажите шестичасовой интервал, в котором было больше всего обращений в КЦ</h4>"
   ]
  },
  {
   "cell_type": "code",
   "execution_count": 13,
   "metadata": {},
   "outputs": [
    {
     "name": "stdout",
     "output_type": "stream",
     "text": [
      "Max количество обращений - 469 с 2018-06-23 14:00:00 по 2018-06-23 20:00:00 \n"
     ]
    }
   ],
   "source": [
    "CC_call_df['full_t']=pd.to_datetime(CC_call_df['date'].astype(str) +' '+ CC_call_df['time']).astype('datetime64')\n",
    "start_date=CC_call_df['full_t'].min()\n",
    "end_period=CC_call_df['full_t'].max()\n",
    "start_date=start_date.normalize()\n",
    "hours6=pd.Timedelta('6 hours')\n",
    "hours1=pd.Timedelta('1 hours')\n",
    "size_max=0\n",
    "start_max=start_date\n",
    "end_max=start_date\n",
    "while start_date<end_period:\n",
    "   start_date+=hours1\n",
    "   end_date = start_date + hours6\n",
    "   mask = (CC_call_df['full_t'] >= start_date) & (CC_call_df['full_t'] <= end_date)\n",
    "   size_nabor=len(CC_call_df.loc[mask])\n",
    "   if size_nabor>size_max:\n",
    "      start_max = start_date\n",
    "      end_max = end_date\n",
    "      size_max=size_nabor\n",
    "print('Max количество обращений - {0} с {1} по {2} '.format(size_max,start_max,end_max))"
   ]
  },
  {
   "cell_type": "markdown",
   "metadata": {},
   "source": [
    "<h4>12. Определите среднее время разговора с КЦ клиентов из г. Обнинск</h4>"
   ]
  },
  {
   "cell_type": "code",
   "execution_count": 14,
   "metadata": {},
   "outputs": [
    {
     "name": "stdout",
     "output_type": "stream",
     "text": [
      "Среднее время -  232.44\n"
     ]
    }
   ],
   "source": [
    "print(\"Среднее время - \",CC_call_df.loc[CC_call_df['region'] == 'г. Обнинск']['duration'].mean())"
   ]
  },
  {
   "cell_type": "markdown",
   "metadata": {},
   "source": [
    "<h4>13. Укажите 5 наиболее часто встречающихся типов обращений в КЦ (в порядке убывания их кол-ва) клиентов, которые подключились в 2018 году и сделали платежей на сумму от 10 000 руб.</h4>"
   ]
  },
  {
   "cell_type": "code",
   "execution_count": 15,
   "metadata": {},
   "outputs": [
    {
     "name": "stdout",
     "output_type": "stream",
     "text": [
      "theme\n",
      "Тех. обращение          158\n",
      "Не тех. обращение        53\n",
      "Проблема Клиентские      15\n",
      "Проблема Финансы          3\n",
      "Проблема Телевидение      2\n",
      "dtype: int64\n"
     ]
    }
   ],
   "source": [
    "klient=tariff_broadband_df.loc[tariff_broadband_df['connected'] >= '2018-01-01']\n",
    "klient_oplata=payment_broadband_df.merge(klient, how='inner') \n",
    "klient_oplataSum=klient_oplata.groupby('account')['amount'].sum()\n",
    "klient_occ=[[kkk,lll] for kkk,lll in zip(klient_oplataSum[klient_oplataSum.values>=10000].index, klient_oplataSum[klient_oplataSum.values>=10000])]\n",
    "result=CC_call_df.merge(pd.DataFrame(klient_occ, columns=['account','summm']))\n",
    "print(result.groupby('theme').size().sort_values(ascending=False)[:5])"
   ]
  },
  {
   "cell_type": "code",
   "execution_count": null,
   "metadata": {},
   "outputs": [],
   "source": []
  }
 ],
 "metadata": {
  "kernelspec": {
   "display_name": "Python 3",
   "language": "python",
   "name": "python3"
  },
  "language_info": {
   "codemirror_mode": {
    "name": "ipython",
    "version": 3
   },
   "file_extension": ".py",
   "mimetype": "text/x-python",
   "name": "python",
   "nbconvert_exporter": "python",
   "pygments_lexer": "ipython3",
   "version": "3.8.10"
  }
 },
 "nbformat": 4,
 "nbformat_minor": 4
}
