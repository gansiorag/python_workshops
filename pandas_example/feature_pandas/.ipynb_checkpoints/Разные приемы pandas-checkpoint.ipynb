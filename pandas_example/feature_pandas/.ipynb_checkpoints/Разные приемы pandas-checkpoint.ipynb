{
 "cells": [
  {
   "cell_type": "markdown",
   "metadata": {},
   "source": [
    "### Разные приемы работы с данными от pandas\n",
    "Исходные данные: /home/al/PycharmProjects/python_workshops/pandas_example/feature_pandas/data_sets/recent-grads.csv"
   ]
  },
  {
   "cell_type": "code",
   "execution_count": 3,
   "metadata": {},
   "outputs": [],
   "source": [
    "import pandas as pd\n",
    "%matplotlib inline\n",
    "\n",
    "data_file = '/home/al/Projects_My/python_workshops/pandas_example/feature_pandas/data_sets/recent-grads.csv'"
   ]
  },
  {
   "cell_type": "code",
   "execution_count": 4,
   "metadata": {},
   "outputs": [],
   "source": [
    "nabor_one = pd.read_csv(data_file)"
   ]
  },
  {
   "cell_type": "code",
   "execution_count": 5,
   "metadata": {},
   "outputs": [],
   "source": [
    "#параметр display.max.columns, чтобы убедиться, что pandas не скрывает никакие столбцы\n",
    "pd.set_option(\"display.max.columns\", None)"
   ]
  },
  {
   "cell_type": "code",
   "execution_count": 6,
   "metadata": {},
   "outputs": [
    {
     "data": {
      "text/html": [
       "<div>\n",
       "<style scoped>\n",
       "    .dataframe tbody tr th:only-of-type {\n",
       "        vertical-align: middle;\n",
       "    }\n",
       "\n",
       "    .dataframe tbody tr th {\n",
       "        vertical-align: top;\n",
       "    }\n",
       "\n",
       "    .dataframe thead th {\n",
       "        text-align: right;\n",
       "    }\n",
       "</style>\n",
       "<table border=\"1\" class=\"dataframe\">\n",
       "  <thead>\n",
       "    <tr style=\"text-align: right;\">\n",
       "      <th></th>\n",
       "      <th>Rank</th>\n",
       "      <th>Major_code</th>\n",
       "      <th>Major</th>\n",
       "      <th>Total</th>\n",
       "      <th>Men</th>\n",
       "      <th>Women</th>\n",
       "      <th>Major_category</th>\n",
       "      <th>ShareWomen</th>\n",
       "      <th>Sample_size</th>\n",
       "      <th>Employed</th>\n",
       "      <th>Full_time</th>\n",
       "      <th>Part_time</th>\n",
       "      <th>Full_time_year_round</th>\n",
       "      <th>Unemployed</th>\n",
       "      <th>Unemployment_rate</th>\n",
       "      <th>Median</th>\n",
       "      <th>P25th</th>\n",
       "      <th>P75th</th>\n",
       "      <th>College_jobs</th>\n",
       "      <th>Non_college_jobs</th>\n",
       "      <th>Low_wage_jobs</th>\n",
       "    </tr>\n",
       "  </thead>\n",
       "  <tbody>\n",
       "    <tr>\n",
       "      <th>0</th>\n",
       "      <td>1</td>\n",
       "      <td>2419</td>\n",
       "      <td>PETROLEUM ENGINEERING</td>\n",
       "      <td>2339.0</td>\n",
       "      <td>2057.0</td>\n",
       "      <td>282.0</td>\n",
       "      <td>Engineering</td>\n",
       "      <td>0.120564</td>\n",
       "      <td>36</td>\n",
       "      <td>1976</td>\n",
       "      <td>1849</td>\n",
       "      <td>270</td>\n",
       "      <td>1207</td>\n",
       "      <td>37</td>\n",
       "      <td>0.018381</td>\n",
       "      <td>110000</td>\n",
       "      <td>95000</td>\n",
       "      <td>125000</td>\n",
       "      <td>1534</td>\n",
       "      <td>364</td>\n",
       "      <td>193</td>\n",
       "    </tr>\n",
       "    <tr>\n",
       "      <th>1</th>\n",
       "      <td>2</td>\n",
       "      <td>2416</td>\n",
       "      <td>MINING AND MINERAL ENGINEERING</td>\n",
       "      <td>756.0</td>\n",
       "      <td>679.0</td>\n",
       "      <td>77.0</td>\n",
       "      <td>Engineering</td>\n",
       "      <td>0.101852</td>\n",
       "      <td>7</td>\n",
       "      <td>640</td>\n",
       "      <td>556</td>\n",
       "      <td>170</td>\n",
       "      <td>388</td>\n",
       "      <td>85</td>\n",
       "      <td>0.117241</td>\n",
       "      <td>75000</td>\n",
       "      <td>55000</td>\n",
       "      <td>90000</td>\n",
       "      <td>350</td>\n",
       "      <td>257</td>\n",
       "      <td>50</td>\n",
       "    </tr>\n",
       "    <tr>\n",
       "      <th>2</th>\n",
       "      <td>3</td>\n",
       "      <td>2415</td>\n",
       "      <td>METALLURGICAL ENGINEERING</td>\n",
       "      <td>856.0</td>\n",
       "      <td>725.0</td>\n",
       "      <td>131.0</td>\n",
       "      <td>Engineering</td>\n",
       "      <td>0.153037</td>\n",
       "      <td>3</td>\n",
       "      <td>648</td>\n",
       "      <td>558</td>\n",
       "      <td>133</td>\n",
       "      <td>340</td>\n",
       "      <td>16</td>\n",
       "      <td>0.024096</td>\n",
       "      <td>73000</td>\n",
       "      <td>50000</td>\n",
       "      <td>105000</td>\n",
       "      <td>456</td>\n",
       "      <td>176</td>\n",
       "      <td>0</td>\n",
       "    </tr>\n",
       "    <tr>\n",
       "      <th>3</th>\n",
       "      <td>4</td>\n",
       "      <td>2417</td>\n",
       "      <td>NAVAL ARCHITECTURE AND MARINE ENGINEERING</td>\n",
       "      <td>1258.0</td>\n",
       "      <td>1123.0</td>\n",
       "      <td>135.0</td>\n",
       "      <td>Engineering</td>\n",
       "      <td>0.107313</td>\n",
       "      <td>16</td>\n",
       "      <td>758</td>\n",
       "      <td>1069</td>\n",
       "      <td>150</td>\n",
       "      <td>692</td>\n",
       "      <td>40</td>\n",
       "      <td>0.050125</td>\n",
       "      <td>70000</td>\n",
       "      <td>43000</td>\n",
       "      <td>80000</td>\n",
       "      <td>529</td>\n",
       "      <td>102</td>\n",
       "      <td>0</td>\n",
       "    </tr>\n",
       "    <tr>\n",
       "      <th>4</th>\n",
       "      <td>5</td>\n",
       "      <td>2405</td>\n",
       "      <td>CHEMICAL ENGINEERING</td>\n",
       "      <td>32260.0</td>\n",
       "      <td>21239.0</td>\n",
       "      <td>11021.0</td>\n",
       "      <td>Engineering</td>\n",
       "      <td>0.341631</td>\n",
       "      <td>289</td>\n",
       "      <td>25694</td>\n",
       "      <td>23170</td>\n",
       "      <td>5180</td>\n",
       "      <td>16697</td>\n",
       "      <td>1672</td>\n",
       "      <td>0.061098</td>\n",
       "      <td>65000</td>\n",
       "      <td>50000</td>\n",
       "      <td>75000</td>\n",
       "      <td>18314</td>\n",
       "      <td>4440</td>\n",
       "      <td>972</td>\n",
       "    </tr>\n",
       "  </tbody>\n",
       "</table>\n",
       "</div>"
      ],
      "text/plain": [
       "   Rank  Major_code                                      Major    Total  \\\n",
       "0     1        2419                      PETROLEUM ENGINEERING   2339.0   \n",
       "1     2        2416             MINING AND MINERAL ENGINEERING    756.0   \n",
       "2     3        2415                  METALLURGICAL ENGINEERING    856.0   \n",
       "3     4        2417  NAVAL ARCHITECTURE AND MARINE ENGINEERING   1258.0   \n",
       "4     5        2405                       CHEMICAL ENGINEERING  32260.0   \n",
       "\n",
       "       Men    Women Major_category  ShareWomen  Sample_size  Employed  \\\n",
       "0   2057.0    282.0    Engineering    0.120564           36      1976   \n",
       "1    679.0     77.0    Engineering    0.101852            7       640   \n",
       "2    725.0    131.0    Engineering    0.153037            3       648   \n",
       "3   1123.0    135.0    Engineering    0.107313           16       758   \n",
       "4  21239.0  11021.0    Engineering    0.341631          289     25694   \n",
       "\n",
       "   Full_time  Part_time  Full_time_year_round  Unemployed  Unemployment_rate  \\\n",
       "0       1849        270                  1207          37           0.018381   \n",
       "1        556        170                   388          85           0.117241   \n",
       "2        558        133                   340          16           0.024096   \n",
       "3       1069        150                   692          40           0.050125   \n",
       "4      23170       5180                 16697        1672           0.061098   \n",
       "\n",
       "   Median  P25th   P75th  College_jobs  Non_college_jobs  Low_wage_jobs  \n",
       "0  110000  95000  125000          1534               364            193  \n",
       "1   75000  55000   90000           350               257             50  \n",
       "2   73000  50000  105000           456               176              0  \n",
       "3   70000  43000   80000           529               102              0  \n",
       "4   65000  50000   75000         18314              4440            972  "
      ]
     },
     "execution_count": 6,
     "metadata": {},
     "output_type": "execute_result"
    }
   ],
   "source": [
    "nabor_one.head()"
   ]
  },
  {
   "cell_type": "code",
   "execution_count": 7,
   "metadata": {},
   "outputs": [
    {
     "data": {
      "text/plain": [
       "<AxesSubplot:xlabel='Rank'>"
      ]
     },
     "execution_count": 7,
     "metadata": {},
     "output_type": "execute_result"
    },
    {
     "data": {
      "image/png": "[encoded data removed]",
      "text/plain": [
       "<Figure size 432x288 with 1 Axes>"
      ]
     },
     "metadata": {
      "needs_background": "light"
     },
     "output_type": "display_data"
    }
   ],
   "source": [
    "nabor_one.plot(x=\"Rank\", y=[\"P25th\", \"Median\", \"P75th\"])"
   ]
  },
  {
   "cell_type": "code",
   "execution_count": 8,
   "metadata": {},
   "outputs": [
    {
     "data": {
      "text/html": [
       "<div>\n",
       "<style scoped>\n",
       "    .dataframe tbody tr th:only-of-type {\n",
       "        vertical-align: middle;\n",
       "    }\n",
       "\n",
       "    .dataframe tbody tr th {\n",
       "        vertical-align: top;\n",
       "    }\n",
       "\n",
       "    .dataframe thead th {\n",
       "        text-align: right;\n",
       "    }\n",
       "</style>\n",
       "<table border=\"1\" class=\"dataframe\">\n",
       "  <thead>\n",
       "    <tr style=\"text-align: right;\">\n",
       "      <th></th>\n",
       "      <th>Total</th>\n",
       "      <th>Men</th>\n",
       "      <th>Women</th>\n",
       "    </tr>\n",
       "  </thead>\n",
       "  <tbody>\n",
       "    <tr>\n",
       "      <th>sum</th>\n",
       "      <td>6.771654e+06</td>\n",
       "      <td>2.876426e+06</td>\n",
       "      <td>3.895228e+06</td>\n",
       "    </tr>\n",
       "    <tr>\n",
       "      <th>mean</th>\n",
       "      <td>3.937008e+04</td>\n",
       "      <td>1.672341e+04</td>\n",
       "      <td>2.264667e+04</td>\n",
       "    </tr>\n",
       "    <tr>\n",
       "      <th>std</th>\n",
       "      <td>6.348349e+04</td>\n",
       "      <td>2.812243e+04</td>\n",
       "      <td>4.105733e+04</td>\n",
       "    </tr>\n",
       "  </tbody>\n",
       "</table>\n",
       "</div>"
      ],
      "text/plain": [
       "             Total           Men         Women\n",
       "sum   6.771654e+06  2.876426e+06  3.895228e+06\n",
       "mean  3.937008e+04  1.672341e+04  2.264667e+04\n",
       "std   6.348349e+04  2.812243e+04  4.105733e+04"
      ]
     },
     "execution_count": 8,
     "metadata": {},
     "output_type": "execute_result"
    }
   ],
   "source": [
    "nabor_one[['Total', 'Men', 'Women']].agg(['sum', 'mean', 'std'])"
   ]
  },
  {
   "cell_type": "code",
   "execution_count": 10,
   "metadata": {},
   "outputs": [],
   "source": [
    "import numpy as np\n",
    "import seaborn as sns\n",
    "\n",
    "import matplotlib.pyplot as plt\n",
    "import matplotlib.mlab as mlab\n",
    "import matplotlib\n",
    "plt.style.use('ggplot')\n",
    "from matplotlib.pyplot import figure"
   ]
  },
  {
   "cell_type": "code",
   "execution_count": 11,
   "metadata": {},
   "outputs": [],
   "source": [
    "matplotlib.rcParams['figure.figsize'] = (12,8)"
   ]
  },
  {
   "cell_type": "code",
   "execution_count": 12,
   "metadata": {},
   "outputs": [],
   "source": [
    "pd.options.mode.chained_assignment = None"
   ]
  },
  {
   "cell_type": "code",
   "execution_count": 13,
   "metadata": {},
   "outputs": [
    {
     "name": "stdout",
     "output_type": "stream",
     "text": [
      "(173, 21)\n",
      "Rank                      int64\n",
      "Major_code                int64\n",
      "Major                    object\n",
      "Total                   float64\n",
      "Men                     float64\n",
      "Women                   float64\n",
      "Major_category           object\n",
      "ShareWomen              float64\n",
      "Sample_size               int64\n",
      "Employed                  int64\n",
      "Full_time                 int64\n",
      "Part_time                 int64\n",
      "Full_time_year_round      int64\n",
      "Unemployed                int64\n",
      "Unemployment_rate       float64\n",
      "Median                    int64\n",
      "P25th                     int64\n",
      "P75th                     int64\n",
      "College_jobs              int64\n",
      "Non_college_jobs          int64\n",
      "Low_wage_jobs             int64\n",
      "dtype: object\n"
     ]
    }
   ],
   "source": [
    "# shape and data types of the data\n",
    "print(nabor_one.shape)\n",
    "print(nabor_one.dtypes)"
   ]
  },
  {
   "cell_type": "code",
   "execution_count": 14,
   "metadata": {},
   "outputs": [
    {
     "name": "stdout",
     "output_type": "stream",
     "text": [
      "['Rank' 'Major_code' 'Total' 'Men' 'Women' 'ShareWomen' 'Sample_size'\n",
      " 'Employed' 'Full_time' 'Part_time' 'Full_time_year_round' 'Unemployed'\n",
      " 'Unemployment_rate' 'Median' 'P25th' 'P75th' 'College_jobs'\n",
      " 'Non_college_jobs' 'Low_wage_jobs']\n"
     ]
    }
   ],
   "source": [
    "# отбор числовых колонок\n",
    "df_numeric = nabor_one.select_dtypes(include=[np.number])\n",
    "numeric_cols = df_numeric.columns.values\n",
    "print(numeric_cols)"
   ]
  },
  {
   "cell_type": "code",
   "execution_count": 16,
   "metadata": {},
   "outputs": [
    {
     "name": "stdout",
     "output_type": "stream",
     "text": [
      "['Major' 'Major_category']\n"
     ]
    }
   ],
   "source": [
    "# отбор нечисловых колонок\n",
    "df_non_numeric = nabor_one.select_dtypes(exclude=[np.number])\n",
    "non_numeric_cols = df_non_numeric.columns.values\n",
    "print(non_numeric_cols)"
   ]
  },
  {
   "cell_type": "code",
   "execution_count": 17,
   "metadata": {},
   "outputs": [
    {
     "data": {
      "text/plain": [
       "<AxesSubplot:>"
      ]
     },
     "execution_count": 17,
     "metadata": {},
     "output_type": "execute_result"
    },
    {
     "data": {
      "image/png": "[encoded data removed]",
      "text/plain": [
       "<Figure size 864x576 with 2 Axes>"
      ]
     },
     "metadata": {},
     "output_type": "display_data"
    }
   ],
   "source": [
    "# определяем цвета \n",
    "# желтый - пропущенные данные, синий - не пропущенные\n",
    "colours = ['#000099', '#ffff00'] \n",
    "sns.heatmap(nabor_one.isnull(), cmap=sns.color_palette(colours))"
   ]
  },
  {
   "cell_type": "markdown",
   "metadata": {},
   "source": [
    "прочитаем еще одни набор данных по ценам на жилье в России, найденный на Kaggle<br>\n",
    "/home/al/Projects_My/python_workshops/pandas_example/feature_pandas/data_sets/sberbank-russian-housing-market/train.csv"
   ]
  },
  {
   "cell_type": "code",
   "execution_count": 18,
   "metadata": {},
   "outputs": [],
   "source": [
    "cost_home = pd.read_csv('/home/al/Projects_My/python_workshops/pandas_example/feature_pandas/data_sets/sberbank-russian-housing-market/train.csv')"
   ]
  },
  {
   "cell_type": "code",
   "execution_count": 21,
   "metadata": {},
   "outputs": [
    {
     "name": "stdout",
     "output_type": "stream",
     "text": [
      "id - 0%\n",
      "timestamp - 0%\n",
      "full_sq - 0%\n",
      "life_sq - 21%\n",
      "floor - 1%\n",
      "max_floor - 31%\n",
      "material - 31%\n",
      "build_year - 45%\n",
      "num_room - 31%\n",
      "kitch_sq - 31%\n",
      "state - 44%\n",
      "product_type - 0%\n",
      "sub_area - 0%\n",
      "area_m - 0%\n",
      "raion_popul - 0%\n",
      "green_zone_part - 0%\n",
      "indust_part - 0%\n",
      "children_preschool - 0%\n",
      "preschool_quota - 22%\n",
      "preschool_education_centers_raion - 0%\n",
      "children_school - 0%\n",
      "school_quota - 22%\n",
      "school_education_centers_raion - 0%\n",
      "school_education_centers_top_20_raion - 0%\n",
      "hospital_beds_raion - 47%\n",
      "healthcare_centers_raion - 0%\n",
      "university_top_20_raion - 0%\n",
      "sport_objects_raion - 0%\n",
      "additional_education_raion - 0%\n",
      "culture_objects_top_25 - 0%\n"
     ]
    }
   ],
   "source": [
    "# список долей отсутствующих записей для каждого признака для первых 30 колонок\n",
    "for col in cost_home.columns[:30]:\n",
    "    pct_missing = np.mean(cost_home[col].isnull())\n",
    "    print('{} - {}%'.format(col, round(pct_missing*100)))"
   ]
  },
  {
   "cell_type": "code",
   "execution_count": 25,
   "metadata": {},
   "outputs": [
    {
     "data": {
      "text/plain": [
       "<AxesSubplot:xlabel='index'>"
      ]
     },
     "execution_count": 25,
     "metadata": {},
     "output_type": "execute_result"
    },
    {
     "data": {
      "image/png": "[encoded data removed]",
      "text/plain": [
       "<Figure size 864x576 with 1 Axes>"
      ]
     },
     "metadata": {},
     "output_type": "display_data"
    }
   ],
   "source": [
    "# Гистограмма пропущенных данных\n",
    "for col in cost_home.columns:\n",
    "    missing = cost_home[col].isnull()\n",
    "    num_missing = np.sum(missing)\n",
    "    \n",
    "    if num_missing > 0:  \n",
    "        #print('created missing indicator for: {}'.format(col))\n",
    "        cost_home['{}_ismissing'.format(col)] = missing\n",
    "\n",
    "\n",
    "# затем на основе индикатора строим гистограмму\n",
    "ismissing_cols = [col for col in cost_home.columns if 'ismissing' in col]\n",
    "cost_home['num_missing'] = cost_home[ismissing_cols].sum(axis=1)\n",
    "\n",
    "cost_home['num_missing'].value_counts().reset_index().sort_values(by='index').plot.bar(x='index', y='num_missing')"
   ]
  },
  {
   "cell_type": "code",
   "execution_count": 6,
   "metadata": {},
   "outputs": [],
   "source": [
    "#создадим свои наборы для экспериментов\n",
    "nabor_two = pd.DataFrame({'st1':[10,20,30,40,50], 'st2':[100,200,300,400,500], \n",
    "                          'st3':['q','w','e','r','t']}, index = ['a','s','d','f','g'])"
   ]
  },
  {
   "cell_type": "code",
   "execution_count": 7,
   "metadata": {},
   "outputs": [
    {
     "name": "stdout",
     "output_type": "stream",
     "text": [
      "   st1  st2 st3\n",
      "a   10  100   q\n",
      "s   20  200   w\n",
      "d   30  300   e\n",
      "f   40  400   r\n",
      "g   50  500   t\n"
     ]
    }
   ],
   "source": [
    "print(nabor_two.head())"
   ]
  },
  {
   "cell_type": "code",
   "execution_count": 8,
   "metadata": {},
   "outputs": [],
   "source": [
    "nabor_three = pd.DataFrame({'st13':[13,23,33,43,53], 'st2':[103,20,303,403,503], \n",
    "                          'st3':['q3','w3','e3','r3','t3']}, index = ['a','s','d','f','g'])"
   ]
  },
  {
   "cell_type": "code",
   "execution_count": 9,
   "metadata": {},
   "outputs": [
    {
     "name": "stdout",
     "output_type": "stream",
     "text": [
      "   st1  st2 st3  st13  st2 st3\n",
      "a   10  100   q    13  103  q3\n",
      "s   20  200   w    23   20  w3\n",
      "d   30  300   e    33  303  e3\n",
      "f   40  400   r    43  403  r3\n",
      "g   50  500   t    53  503  t3\n"
     ]
    }
   ],
   "source": [
    "nabor_four = pd.concat([nabor_two, nabor_three], axis = 1, join='outer')\n",
    "print(nabor_four.head())"
   ]
  },
  {
   "cell_type": "code",
   "execution_count": 10,
   "metadata": {},
   "outputs": [
    {
     "name": "stdout",
     "output_type": "stream",
     "text": [
      "    st1  st2 st3  st13\n",
      "a  10.0  100   q   NaN\n",
      "s  20.0  200   w   NaN\n",
      "d  30.0  300   e   NaN\n",
      "f  40.0  400   r   NaN\n",
      "g  50.0  500   t   NaN\n",
      "a   NaN  103  q3  13.0\n",
      "s   NaN   20  w3  23.0\n",
      "d   NaN  303  e3  33.0\n",
      "f   NaN  403  r3  43.0\n",
      "g   NaN  503  t3  53.0\n"
     ]
    }
   ],
   "source": [
    "nabor_five = pd.concat([nabor_two, nabor_three], axis=0, join='outer')\n",
    "print(nabor_five.head(20))"
   ]
  },
  {
   "cell_type": "code",
   "execution_count": 11,
   "metadata": {},
   "outputs": [
    {
     "name": "stdout",
     "output_type": "stream",
     "text": [
      "    st1  st2 st3  st13\n",
      "a  10.0  100   q   NaN\n",
      "s  20.0  200   w   NaN\n",
      "d  30.0  300   e   NaN\n",
      "f  40.0  400   r   NaN\n",
      "g  50.0  500   t   NaN\n",
      "a   NaN  103  q3  13.0\n",
      "s   NaN   20  w3  23.0\n",
      "d   NaN  303  e3  33.0\n",
      "f   NaN  403  r3  43.0\n",
      "g   NaN  503  t3  53.0\n"
     ]
    }
   ],
   "source": [
    "nabor_six = pd.concat([nabor_two, nabor_three], axis=0, join='inner')\n",
    "print(nabor_five.head(20))"
   ]
  },
  {
   "cell_type": "code",
   "execution_count": 12,
   "metadata": {},
   "outputs": [
    {
     "name": "stdout",
     "output_type": "stream",
     "text": [
      "   st1  st2 st3 kex\n",
      "0   10  100   q   a\n",
      "1   20  200   w   s\n",
      "2   30  300   e   d\n",
      "3   40  400   r   f\n",
      "4   50  500   t   g\n"
     ]
    }
   ],
   "source": [
    "#создвдим свои наборы для экспериментов\n",
    "nabor_two_one = pd.DataFrame({'st1':[10,20,30,40,50], 'st2':[100,200,300,400,500], \n",
    "                          'st3':['q','w','e','r','t'], 'kex': ['a','s','d','f','g']})\n",
    "print(nabor_two_one.head(20)) "
   ]
  },
  {
   "cell_type": "code",
   "execution_count": 13,
   "metadata": {},
   "outputs": [
    {
     "name": "stdout",
     "output_type": "stream",
     "text": [
      "   st13  st2 st3 kex\n",
      "0    13  103  q3   a\n",
      "1    23   20  w3   s\n",
      "2    33  303  e3   d\n",
      "3    43  403  r3   f\n",
      "4    53  503  t3   g\n"
     ]
    }
   ],
   "source": [
    "nabor_three_one = pd.DataFrame({'st13':[13,23,33,43,53], 'st2':[103,20,303,403,503], \n",
    "                          'st3':['q3','w3','e3','r3','t3'], 'kex': ['a','s','d','f','g']})\n",
    "print(nabor_three_one.head(20)) "
   ]
  },
  {
   "cell_type": "code",
   "execution_count": 14,
   "metadata": {},
   "outputs": [
    {
     "name": "stdout",
     "output_type": "stream",
     "text": [
      "   st1  st2_x st3_x kex  st13  st2_y st3_y\n",
      "0   10    100     q   a    13    103    q3\n",
      "1   20    200     w   s    23     20    w3\n",
      "2   30    300     e   d    33    303    e3\n",
      "3   40    400     r   f    43    403    r3\n",
      "4   50    500     t   g    53    503    t3\n"
     ]
    }
   ],
   "source": [
    "nabor_seven = pd.merge(nabor_two_one, nabor_three_one, on = 'kex')\n",
    "print(nabor_seven.head(20)) "
   ]
  },
  {
   "cell_type": "code",
   "execution_count": 15,
   "metadata": {},
   "outputs": [
    {
     "name": "stdout",
     "output_type": "stream",
     "text": [
      "   st1  st2_x st3_x kex  st13  st2_y st3_y\n",
      "0   10    100     q   a    13    103    q3\n",
      "1   20    200     w   s    23     20    w3\n",
      "2   30    300     e   d    33    303    e3\n",
      "3   40    400     r   f    43    403    r3\n",
      "4   50    500     t   g    53    503    t3\n"
     ]
    }
   ],
   "source": [
    "nabor_seven = pd.merge(nabor_two_one, nabor_three_one, how = 'right', on = 'kex')\n",
    "print(nabor_seven.head(20)) "
   ]
  },
  {
   "cell_type": "code",
   "execution_count": 16,
   "metadata": {},
   "outputs": [
    {
     "name": "stdout",
     "output_type": "stream",
     "text": [
      "   st13  st2 st3 kex\n",
      "0    14  104  q4   a\n",
      "1    24  204  w4   s\n",
      "2    34  304  e4   d\n",
      "3    44  404  r4   r\n",
      "4    54  504  t4   g\n"
     ]
    }
   ],
   "source": [
    "nabor_three_two = pd.DataFrame({'st13':[14,24,34,44,54], 'st2':[104,204,304,404,504], \n",
    "                          'st3':['q4','w4','e4','r4','t4'], 'kex': ['a','s','d','r','g']})\n",
    "print(nabor_three_two.head(20))"
   ]
  },
  {
   "cell_type": "code",
   "execution_count": 17,
   "metadata": {},
   "outputs": [
    {
     "name": "stdout",
     "output_type": "stream",
     "text": [
      "    st1  st2_x st3_x kex  st13  st2_y st3_y\n",
      "0  10.0  100.0     q   a    14    104    q4\n",
      "1  20.0  200.0     w   s    24    204    w4\n",
      "2  30.0  300.0     e   d    34    304    e4\n",
      "3  50.0  500.0     t   g    54    504    t4\n",
      "4   NaN    NaN   NaN   r    44    404    r4\n"
     ]
    }
   ],
   "source": [
    "# беруться индексы правого набора и по ним строиться массив. если индекса нет в левом наборе то NaN\n",
    "# индексы которые есть в левом наборе но нет в правом - отбрасываются.\n",
    "nabor_eght = pd.merge(nabor_two_one, nabor_three_two, how = 'right', on = 'kex')\n",
    "print(nabor_eght.head(20))"
   ]
  },
  {
   "cell_type": "code",
   "execution_count": 18,
   "metadata": {},
   "outputs": [
    {
     "name": "stdout",
     "output_type": "stream",
     "text": [
      "   st1  st2_x st3_x kex  st13  st2_y st3_y\n",
      "0   10    100     q   a  14.0  104.0    q4\n",
      "1   20    200     w   s  24.0  204.0    w4\n",
      "2   30    300     e   d  34.0  304.0    e4\n",
      "3   40    400     r   f   NaN    NaN   NaN\n",
      "4   50    500     t   g  54.0  504.0    t4\n"
     ]
    }
   ],
   "source": [
    "# слияние по индексам левого набора\n",
    "nabor_eght = pd.merge(nabor_two_one, nabor_three_two, how = 'left', on = 'kex')\n",
    "print(nabor_eght.head(20))"
   ]
  },
  {
   "cell_type": "code",
   "execution_count": 19,
   "metadata": {},
   "outputs": [
    {
     "name": "stdout",
     "output_type": "stream",
     "text": [
      "   st1  st2_x st3_x kex  st13  st2_y st3_y\n",
      "0   10    100     q   a    14    104    q4\n",
      "1   20    200     w   s    24    204    w4\n",
      "2   30    300     e   d    34    304    e4\n",
      "3   50    500     t   g    54    504    t4\n"
     ]
    }
   ],
   "source": [
    "# без параметра how слияние идет только по общим индексам\n",
    "nabor_eght = pd.merge(nabor_two_one, nabor_three_two, on = 'kex')\n",
    "print(nabor_eght.head(20))"
   ]
  },
  {
   "cell_type": "code",
   "execution_count": 20,
   "metadata": {},
   "outputs": [
    {
     "name": "stdout",
     "output_type": "stream",
     "text": [
      "    st1  st2_x st3_x kex  st13  st2_y st3_y\n",
      "0  10.0  100.0     q   a  14.0  104.0    q4\n",
      "1  20.0  200.0     w   s  24.0  204.0    w4\n",
      "2  30.0  300.0     e   d  34.0  304.0    e4\n",
      "3  40.0  400.0     r   f   NaN    NaN   NaN\n",
      "4  50.0  500.0     t   g  54.0  504.0    t4\n",
      "5   NaN    NaN   NaN   r  44.0  404.0    r4\n"
     ]
    }
   ],
   "source": [
    "# без параметра how слияние идет только по общим индексам\n",
    "nabor_nine = pd.merge(nabor_two_one, nabor_three_two, how='outer', on = 'kex')\n",
    "print(nabor_nine.head(20))"
   ]
  },
  {
   "cell_type": "code",
   "execution_count": 21,
   "metadata": {},
   "outputs": [
    {
     "name": "stdout",
     "output_type": "stream",
     "text": [
      "   st1  st2_x st3_x kex  st13  st2_y st3_y\n",
      "0   10    100     q   a    14    104    q4\n",
      "1   20    200     w   s    24    204    w4\n",
      "2   30    300     e   d    34    304    e4\n",
      "3   50    500     t   g    54    504    t4\n"
     ]
    }
   ],
   "source": [
    "# без параметра how слияние идет только по общим индексам\n",
    "nabor_ten = pd.merge(nabor_two_one, nabor_three_two, how='inner', on = 'kex')\n",
    "print(nabor_ten.head(20))"
   ]
  },
  {
   "cell_type": "markdown",
   "metadata": {},
   "source": [
    "### Статистики\n",
    "\n",
    "Метод |    Описание                 | Метод |    Описание      | \n",
    ":-----|:----------------------------|:------|:--------\n",
    "count  |Количество не-NA объектов    |std    |      Стандартное отклонение |\n",
    "sum    |Сумма                   |var    |     Несмещенная дисперсия |\n",
    "mean  |Среднее значение        |sem    |      Стандартная ошибка среднего|\n",
    "mad   | Среднее абсолютное отклонение|skew   |     Скошенность (момент 3-го порядка)|\n",
    "median |Медиана                 | kurt  |      Эксцесс (момент 4-го порядка) |\n",
    "min    |Минимум                 |          quantile   | Квантиль (%) |\n",
    "max   | Максимум                 |          cumsum    |  Кумулятивная сумма |\n",
    "mode   |Мода                    |          cumprod   |  Кумулятивное произведение|\n",
    "abs   | Абсолютное значение      |          cummax    |  Кумулятивный максимум |\n",
    "prod  | Произведение             |          cummin    |  Кумулятивный минимум |"
   ]
  },
  {
   "cell_type": "code",
   "execution_count": 29,
   "metadata": {},
   "outputs": [
    {
     "name": "stdout",
     "output_type": "stream",
     "text": [
      "5\n",
      "304.0\n",
      "304.0\n",
      "st1       40.0\n",
      "st2_x    400.0\n",
      "st13      44.0\n",
      "st2_y    404.0\n",
      "Name: 0.75, dtype: float64\n",
      "0     104.0\n",
      "1     308.0\n",
      "2     612.0\n",
      "3       NaN\n",
      "4    1116.0\n",
      "5    1520.0\n",
      "Name: st2_y, dtype: float64\n"
     ]
    }
   ],
   "source": [
    "print(nabor_nine['st3_y'].count())\n",
    "print(nabor_nine['st2_y'].mean())\n",
    "print(nabor_nine['st2_y'].quantile(q=0.5))\n",
    "print(nabor_nine.quantile(q=0.75))\n",
    "print(nabor_nine['st2_y'].cumsum())"
   ]
  },
  {
   "cell_type": "code",
   "execution_count": 30,
   "metadata": {},
   "outputs": [
    {
     "name": "stdout",
     "output_type": "stream",
     "text": [
      "count      5.000000\n",
      "mean     304.000000\n",
      "std      158.113883\n",
      "min      104.000000\n",
      "25%      204.000000\n",
      "50%      304.000000\n",
      "75%      404.000000\n",
      "max      504.000000\n",
      "Name: st2_y, dtype: float64\n"
     ]
    }
   ],
   "source": [
    "# сводной информации по статистикам\n",
    "print(nabor_nine['st2_y'].describe())"
   ]
  },
  {
   "cell_type": "code",
   "execution_count": 31,
   "metadata": {},
   "outputs": [
    {
     "name": "stdout",
     "output_type": "stream",
     "text": [
      "404.0    1\n",
      "504.0    1\n",
      "304.0    1\n",
      "204.0    1\n",
      "104.0    1\n",
      "Name: st2_y, dtype: int64\n"
     ]
    }
   ],
   "source": [
    "# информации о количестве конкретных чисел\n",
    "print(nabor_nine['st2_y'].value_counts())"
   ]
  },
  {
   "cell_type": "code",
   "execution_count": null,
   "metadata": {},
   "outputs": [],
   "source": []
  }
 ],
 "metadata": {
  "kernelspec": {
   "display_name": "Python 3 (ipykernel)",
   "language": "python",
   "name": "python3"
  },
  "language_info": {
   "codemirror_mode": {
    "name": "ipython",
    "version": 3
   },
   "file_extension": ".py",
   "mimetype": "text/x-python",
   "name": "python",
   "nbconvert_exporter": "python",
   "pygments_lexer": "ipython3",
   "version": "3.8.10"
  },
  "toc": {
   "base_numbering": 1,
   "nav_menu": {},
   "number_sections": true,
   "sideBar": true,
   "skip_h1_title": false,
   "title_cell": "Table of Contents",
   "title_sidebar": "Contents",
   "toc_cell": false,
   "toc_position": {},
   "toc_section_display": true,
   "toc_window_display": false
  }
 },
 "nbformat": 4,
 "nbformat_minor": 4
}
