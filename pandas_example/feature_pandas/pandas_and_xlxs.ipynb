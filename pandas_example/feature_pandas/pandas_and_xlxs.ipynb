{
 "cells": [
  {
   "cell_type": "markdown",
   "metadata": {},
   "source": [
    "## Pandas and xlsx\n",
    "This it will show how work with xlsx files methodes of pandas\n",
    "dataset - <br> \n",
    "/home/al/Projects_My/python_workshops/pandas_example/feature_pandas/data_sets/example_tabl.xlsx"
   ]
  },
  {
   "cell_type": "code",
   "execution_count": 1,
   "metadata": {},
   "outputs": [],
   "source": [
    "import pandas as pd"
   ]
  },
  {
   "cell_type": "code",
   "execution_count": 3,
   "metadata": {},
   "outputs": [
    {
     "name": "stdout",
     "output_type": "stream",
     "text": [
      "  Организация            БП 1-го уровня  \\\n",
      "0         fdg  Вспомогательные процессы   \n",
      "1         dgd  Вспомогательные процессы   \n",
      "2        dfgg  Вспомогательные процессы   \n",
      "3        dfgg         Основные процессы   \n",
      "4         fdg       Процессы управления   \n",
      "5         fdg       Процессы управления   \n",
      "6         fdg       Процессы управления   \n",
      "7         fdg  Вспомогательные процессы   \n",
      "8         fdg  Вспомогательные процессы   \n",
      "9         fdg         Основные процессы   \n",
      "\n",
      "                                      БП 2-го уровня  \\\n",
      "0                    Бухгалтерский учет и отчетность   \n",
      "1                    Бухгалтерский учет и отчетность   \n",
      "2                                     Налоговый учет   \n",
      "3              Управление капитальным строительством   \n",
      "4                            Управление инвестициями   \n",
      "5                                  Тарифообразование   \n",
      "6                                Управленческий учет   \n",
      "7                    Бухгалтерский учет и отчетность   \n",
      "8                                     Налоговый учет   \n",
      "9  Управление активами, техническим обслуживание ...   \n",
      "\n",
      "  Информационная система покрывающая функциональность  \n",
      "0                                    1C:Консолидация   \n",
      "1                                     1С:Бухгалтерия   \n",
      "2                                     1С:Бухгалтерия   \n",
      "3                                     1С:Бухгалтерия   \n",
      "4                                     1С:Бухгалтерия   \n",
      "5                                     1С:Бухгалтерия   \n",
      "6                                     1С:Бухгалтерия   \n",
      "7                                            1С:ЗиУП   \n",
      "8                                            1С:ЗиУП   \n",
      "9                                       1С:СИАО РиРи   \n"
     ]
    }
   ],
   "source": [
    "name_file = '/home/al/Projects_My/python_workshops/pandas_example/feature_pandas/data_sets/example_tabl.xlsx'\n",
    "data = pd.read_excel(name_file,sheet_name=0, header=1)\n",
    "print(data.head(10))"
   ]
  },
  {
   "cell_type": "code",
   "execution_count": 4,
   "metadata": {},
   "outputs": [
    {
     "name": "stdout",
     "output_type": "stream",
     "text": [
      "['fdg' 'dgd' 'dfgg']\n"
     ]
    }
   ],
   "source": [
    "print(data['Организация'].unique())"
   ]
  },
  {
   "cell_type": "code",
   "execution_count": 5,
   "metadata": {},
   "outputs": [
    {
     "name": "stdout",
     "output_type": "stream",
     "text": [
      "['Вспомогательные процессы' 'Основные процессы' 'Процессы управления']\n"
     ]
    }
   ],
   "source": [
    "print(data['БП 1-го уровня'].unique())"
   ]
  },
  {
   "cell_type": "code",
   "execution_count": 6,
   "metadata": {},
   "outputs": [
    {
     "name": "stdout",
     "output_type": "stream",
     "text": [
      "['Бухгалтерский учет и отчетность' 'Налоговый учет'\n",
      " 'Управление капитальным строительством' 'Управление инвестициями'\n",
      " 'Тарифообразование' 'Управленческий учет'\n",
      " 'Управление активами, техническим обслуживание и ремонтами'\n",
      " 'Управление автотранспортом' 'Технологическое присоединение'\n",
      " 'Отображение основных параметров предприятия в ГИС'\n",
      " 'Управление закупками и МТС' 'Управление договорами']\n"
     ]
    }
   ],
   "source": [
    "print(data['БП 2-го уровня'].unique())"
   ]
  },
  {
   "cell_type": "code",
   "execution_count": 11,
   "metadata": {},
   "outputs": [
    {
     "name": "stdout",
     "output_type": "stream",
     "text": [
      "1С:Бухгалтерия     6\n",
      "АСОИ КС            4\n",
      "1С:ЗиУП            2\n",
      "ЕИС Альфа          2\n",
      "1С:СИАО РиРи       1\n",
      "1C:Консолидация    1\n",
      "1С:УАТ             1\n",
      "АСУЗ               1\n",
      "АСУ РЭО            1\n",
      "АСУ ТПР            1\n",
      "Name: Информационная система покрывающая функциональность, dtype: int64\n"
     ]
    }
   ],
   "source": [
    "print(data['Информационная система покрывающая функциональность'].value_counts())"
   ]
  },
  {
   "cell_type": "code",
   "execution_count": 12,
   "metadata": {},
   "outputs": [
    {
     "data": {
      "text/html": [
       "<div>\n",
       "<style scoped>\n",
       "    .dataframe tbody tr th:only-of-type {\n",
       "        vertical-align: middle;\n",
       "    }\n",
       "\n",
       "    .dataframe tbody tr th {\n",
       "        vertical-align: top;\n",
       "    }\n",
       "\n",
       "    .dataframe thead th {\n",
       "        text-align: right;\n",
       "    }\n",
       "</style>\n",
       "<table border=\"1\" class=\"dataframe\">\n",
       "  <thead>\n",
       "    <tr style=\"text-align: right;\">\n",
       "      <th></th>\n",
       "      <th>Организация</th>\n",
       "      <th>БП 1-го уровня</th>\n",
       "      <th>БП 2-го уровня</th>\n",
       "      <th>Информационная система покрывающая функциональность</th>\n",
       "    </tr>\n",
       "  </thead>\n",
       "  <tbody>\n",
       "    <tr>\n",
       "      <th>3</th>\n",
       "      <td>dfgg</td>\n",
       "      <td>Основные процессы</td>\n",
       "      <td>Управление капитальным строительством</td>\n",
       "      <td>1С:Бухгалтерия</td>\n",
       "    </tr>\n",
       "    <tr>\n",
       "      <th>9</th>\n",
       "      <td>fdg</td>\n",
       "      <td>Основные процессы</td>\n",
       "      <td>Управление активами, техническим обслуживание ...</td>\n",
       "      <td>1С:СИАО РиРи</td>\n",
       "    </tr>\n",
       "    <tr>\n",
       "      <th>11</th>\n",
       "      <td>fdg</td>\n",
       "      <td>Основные процессы</td>\n",
       "      <td>Технологическое присоединение</td>\n",
       "      <td>АСОИ КС</td>\n",
       "    </tr>\n",
       "    <tr>\n",
       "      <th>12</th>\n",
       "      <td>fdg</td>\n",
       "      <td>Основные процессы</td>\n",
       "      <td>Управление активами, техническим обслуживание ...</td>\n",
       "      <td>АСОИ КС</td>\n",
       "    </tr>\n",
       "    <tr>\n",
       "      <th>13</th>\n",
       "      <td>dfgg</td>\n",
       "      <td>Основные процессы</td>\n",
       "      <td>Управление активами, техническим обслуживание ...</td>\n",
       "      <td>АСОИ КС</td>\n",
       "    </tr>\n",
       "  </tbody>\n",
       "</table>\n",
       "</div>"
      ],
      "text/plain": [
       "   Организация     БП 1-го уровня  \\\n",
       "3         dfgg  Основные процессы   \n",
       "9          fdg  Основные процессы   \n",
       "11         fdg  Основные процессы   \n",
       "12         fdg  Основные процессы   \n",
       "13        dfgg  Основные процессы   \n",
       "\n",
       "                                       БП 2-го уровня  \\\n",
       "3               Управление капитальным строительством   \n",
       "9   Управление активами, техническим обслуживание ...   \n",
       "11                      Технологическое присоединение   \n",
       "12  Управление активами, техническим обслуживание ...   \n",
       "13  Управление активами, техническим обслуживание ...   \n",
       "\n",
       "   Информационная система покрывающая функциональность  \n",
       "3                                      1С:Бухгалтерия   \n",
       "9                                        1С:СИАО РиРи   \n",
       "11                                            АСОИ КС   \n",
       "12                                            АСОИ КС   \n",
       "13                                            АСОИ КС   "
      ]
     },
     "execution_count": 12,
     "metadata": {},
     "output_type": "execute_result"
    }
   ],
   "source": [
    "data_grp = data.groupby('БП 1-го уровня') \n",
    "df = data_grp.get_group('Основные процессы') \n",
    "df.head()"
   ]
  },
  {
   "cell_type": "code",
   "execution_count": null,
   "metadata": {},
   "outputs": [],
   "source": []
  }
 ],
 "metadata": {
  "kernelspec": {
   "display_name": "Python 3",
   "language": "python",
   "name": "python3"
  },
  "language_info": {
   "codemirror_mode": {
    "name": "ipython",
    "version": 3
   },
   "file_extension": ".py",
   "mimetype": "text/x-python",
   "name": "python",
   "nbconvert_exporter": "python",
   "pygments_lexer": "ipython3",
   "version": "3.8.10"
  }
 },
 "nbformat": 4,
 "nbformat_minor": 4
}
