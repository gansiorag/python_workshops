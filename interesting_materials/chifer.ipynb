{
 "cells": [
  {
   "cell_type": "code",
   "execution_count": null,
   "metadata": {},
   "outputs": [],
   "source": [
    "\n",
    "# https://sethmlarson.dev/scream-cipher?utm_campaign=rss\n",
    "# You've probably heard of stream ciphers, but what about \n",
    "# a scream cipher 😱? Today I learned there are more \n",
    "# “Latin capital letter A” Unicode characters than there are \n",
    "# letters in the English alphabet. You know what that means, \n",
    "# it's time to scream:"
   ]
  },
  {
   "cell_type": "code",
   "execution_count": 1,
   "metadata": {},
   "outputs": [],
   "source": [
    "CIPHER = {\n",
    "\"A\":\"A\",  # Round-trip!\n",
    "\"B\":\"Á\",\"G\":\"Ẳ\",\"L\":\"Ậ\",\"Q\":\"Ǟ\",\"V\":\"À\",\n",
    "\"C\":\"Ă\",\"H\":\"Ẵ\",\"M\":\"Ầ\",\"R\":\"Ȧ\",\"W\":\"Ả\",\n",
    "\"D\":\"Ắ\",\"I\":\"Ǎ\",\"N\":\"Ẩ\",\"S\":\"Ǡ\",\"X\":\"Ȃ\",\n",
    "\"E\":\"Ặ\",\"J\":\"Â\",\"O\":\"Ẫ\",\"T\":\"Ạ\",\"Y\":\"Ā\",\n",
    "\"F\":\"Ằ\",\"K\":\"Ấ\",\"P\":\"Ä\",\"U\":\"Ȁ\",\"Z\":\"Ą\",\n",
    "}\n",
    "CIPHER.update({map(str.lower, kv) for kv in CIPHER.items()})\n",
    "UNCIPHER = {v: k for k, v in CIPHER.items()}\n",
    "\n",
    "def SCREAM(text: str) -> str:\n",
    "    return \"\".join(CIPHER.get(ch, ch) for ch in text)\n",
    "\n",
    "def unscream(scream: str) -> str:\n",
    "    return \"\".join(UNCIPHER.get(ch, ch) for ch in scream)"
   ]
  },
  {
   "cell_type": "code",
   "execution_count": 2,
   "metadata": {},
   "outputs": [
    {
     "name": "stdout",
     "output_type": "stream",
     "text": [
      "ǠĂȦẶAẦ ĂǍÄẴẶȦ\n"
     ]
    }
   ],
   "source": [
    "print(s := SCREAM(\"SCREAM CIPHER\"))\n",
    "# ǠĂȦẶAẦ ĂǍÄẴẶȦ"
   ]
  },
  {
   "cell_type": "code",
   "execution_count": 3,
   "metadata": {},
   "outputs": [
    {
     "name": "stdout",
     "output_type": "stream",
     "text": [
      "SCREAM CIPHER\n"
     ]
    }
   ],
   "source": [
    "print(unscream(s))\n",
    "# SCREAM CIPHER"
   ]
  },
  {
   "cell_type": "code",
   "execution_count": 4,
   "metadata": {},
   "outputs": [
    {
     "name": "stdout",
     "output_type": "stream",
     "text": [
      "AÁȦAĂAẮAÁȦA ẢẪẬẮ\n",
      "ABRACADABRA WOLD\n"
     ]
    }
   ],
   "source": [
    "print(s := SCREAM(\"ABRACADABRA WOLD\"))\n",
    "print(unscream(s))"
   ]
  },
  {
   "cell_type": "code",
   "execution_count": 6,
   "metadata": {},
   "outputs": [
    {
     "name": "stdout",
     "output_type": "stream",
     "text": [
      "Ă\n",
      "Ắ\n"
     ]
    }
   ],
   "source": [
    "print(CIPHER.get('C'))\n",
    "print(CIPHER.get('D'))"
   ]
  }
 ],
 "metadata": {
  "kernelspec": {
   "display_name": ".venv",
   "language": "python",
   "name": "python3"
  },
  "language_info": {
   "codemirror_mode": {
    "name": "ipython",
    "version": 3
   },
   "file_extension": ".py",
   "mimetype": "text/x-python",
   "name": "python",
   "nbconvert_exporter": "python",
   "pygments_lexer": "ipython3",
   "version": "3.12.3"
  },
  "orig_nbformat": 4
 },
 "nbformat": 4,
 "nbformat_minor": 2
}
