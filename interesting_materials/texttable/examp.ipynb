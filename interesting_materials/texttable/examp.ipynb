{
 "cells": [
  {
   "cell_type": "code",
   "execution_count": 2,
   "metadata": {},
   "outputs": [],
   "source": [
    "#!pip install texttable\n",
    "from texttable import Texttable\n"
   ]
  },
  {
   "cell_type": "code",
   "execution_count": 3,
   "metadata": {},
   "outputs": [
    {
     "name": "stdout",
     "output_type": "stream",
     "text": [
      "+-------+-----+\n",
      "| Name  | Age |\n",
      "+=======+=====+\n",
      "| Alice | 24  |\n",
      "+-------+-----+\n",
      "| Bob   | 19  |\n",
      "+-------+-----+\n"
     ]
    }
   ],
   "source": [
    "t = Texttable()\n",
    "t.add_rows([['Name', 'Age'], ['Alice', 24], ['Bob', 19]])\n",
    "print(t.draw())"
   ]
  },
  {
   "cell_type": "code",
   "execution_count": 6,
   "metadata": {},
   "outputs": [],
   "source": [
    "#!pip install beautifultable\n",
    "from beautifultable import BeautifulTable"
   ]
  },
  {
   "cell_type": "code",
   "execution_count": 7,
   "metadata": {},
   "outputs": [
    {
     "name": "stdout",
     "output_type": "stream",
     "text": [
      "+-----------+---------+----------+-----------+\n",
      "|           | Man Utd | Man City | T Hotspur |\n",
      "+-----------+---------+----------+-----------+\n",
      "|  Man Utd  |    1    |    2     |     3     |\n",
      "+-----------+---------+----------+-----------+\n",
      "| Man City  |    7    |    4     |     1     |\n",
      "+-----------+---------+----------+-----------+\n",
      "| T Hotspur |    3    |    2     |     2     |\n",
      "+-----------+---------+----------+-----------+\n"
     ]
    },
    {
     "name": "stderr",
     "output_type": "stream",
     "text": [
      "/home/al/.local/lib/python3.10/site-packages/beautifultable/utils.py:125: FutureWarning: 'BeautifulTable.column_headers' has been deprecated in 'v1.0.0' and will be removed in 'v1.2.0'. Use 'BTColumnCollection.header' instead.\n",
      "  warnings.warn(message, FutureWarning)\n",
      "/home/al/.local/lib/python3.10/site-packages/beautifultable/utils.py:125: FutureWarning: 'BeautifulTable.append_row' has been deprecated in 'v1.0.0' and will be removed in 'v1.2.0'. Use 'BTRowCollection.append' instead.\n",
      "  warnings.warn(message, FutureWarning)\n"
     ]
    }
   ],
   "source": [
    "table = BeautifulTable()\n",
    "table.column_headers = [\"\", \"Man Utd\",\"Man City\",\"T Hotspur\"]\n",
    "table.append_row(['Man Utd',  1,  2,  3])\n",
    "table.append_row(['Man City', 7, 4,  1])\n",
    "table.append_row(['T Hotspur', 3, 2,  2])\n",
    "print(table)"
   ]
  }
 ],
 "metadata": {
  "kernelspec": {
   "display_name": "Python 3",
   "language": "python",
   "name": "python3"
  },
  "language_info": {
   "codemirror_mode": {
    "name": "ipython",
    "version": 3
   },
   "file_extension": ".py",
   "mimetype": "text/x-python",
   "name": "python",
   "nbconvert_exporter": "python",
   "pygments_lexer": "ipython3",
   "version": "3.10.12"
  },
  "orig_nbformat": 4
 },
 "nbformat": 4,
 "nbformat_minor": 2
}
