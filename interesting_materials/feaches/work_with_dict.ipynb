{
 "cells": [
  {
   "cell_type": "markdown",
   "metadata": {},
   "source": [
    "# Извлечение данных из словаря"
   ]
  },
  {
   "cell_type": "code",
   "execution_count": 3,
   "metadata": {},
   "outputs": [
    {
     "name": "stdout",
     "output_type": "stream",
     "text": [
      "value 1 =  1\n",
      "value 2 =  0\n"
     ]
    }
   ],
   "source": [
    "# Базовые способы доступа\n",
    "my_dict = {'a': 1, 'b': 2, 'c': 3}\n",
    "\n",
    "# Прямой доступ по ключу\n",
    "value = my_dict['a']  # 1\n",
    "print('value 1 = ', value )\n",
    "\n",
    "# Метод get() с значением по умолчанию\n",
    "value = my_dict.get('d', 0)  # 0 (ключа 'd' нет)\n",
    "print('value 2 = ', value )"
   ]
  },
  {
   "cell_type": "code",
   "execution_count": 7,
   "metadata": {},
   "outputs": [
    {
     "name": "stdout",
     "output_type": "stream",
     "text": [
      "value  =  4\n",
      "keys  =  dict_keys(['a', 'b', 'c', 'd'])\n",
      "type keys  =  <class 'dict_keys'>\n",
      "list keys  =  ['a', 'b', 'c', 'd']\n",
      "key  =  a\n",
      "key  =  b\n",
      "key  =  c\n",
      "key  =  d\n",
      "values  =  dict_values([1, 2, 3, 4])\n",
      "items  =  dict_items([('a', 1), ('b', 2), ('c', 3), ('d', 4)])\n"
     ]
    }
   ],
   "source": [
    "# Современные методы (Python 3.8+)\n",
    "# setdefault - получить значение или установить по умолчанию\n",
    "value = my_dict.setdefault('d', 4)  # 4, теперь my_dict содержит 'd': 4\n",
    "print('value  = ', value )\n",
    "# Методы представлений\n",
    "keys = my_dict.keys()      # dict_keys(['a', 'b', 'c'])\n",
    "print('keys  = ', keys )\n",
    "print('type keys  = ', type(keys))\n",
    "print('list keys  = ', list(keys))\n",
    "for key in keys:\n",
    "    print('key  = ', key)\n",
    "values = my_dict.values()  # dict_values([1, 2, 3])\n",
    "print('values  = ', values )\n",
    "items = my_dict.items()    # dict_items([('a', 1), ('b', 2), ('c', 3)])\n",
    "print('items  = ', items )"
   ]
  },
  {
   "cell_type": "code",
   "execution_count": 8,
   "metadata": {},
   "outputs": [
    {
     "name": "stdout",
     "output_type": "stream",
     "text": [
      "a 1\n",
      "b 2\n",
      "c 3\n",
      "d 4\n",
      "a 1\n",
      "b 2\n",
      "c 3\n",
      "d 4\n",
      "0 a 1\n",
      "1 b 2\n",
      "2 c 3\n",
      "3 d 4\n"
     ]
    }
   ],
   "source": [
    "# Итерационные методы\n",
    "# Итерация по ключам\n",
    "for key in my_dict:\n",
    "    print(key, my_dict[key])\n",
    "\n",
    "# Итерация по парам ключ-значение\n",
    "for key, value in my_dict.items():\n",
    "    print(key, value)\n",
    "\n",
    "# Использование enumerate для получения индекса\n",
    "for i, (key, value) in enumerate(my_dict.items()):\n",
    "    print(i, key, value)"
   ]
  },
  {
   "cell_type": "code",
   "execution_count": 17,
   "metadata": {},
   "outputs": [
    {
     "name": "stdout",
     "output_type": "stream",
     "text": [
      "itemgetter a=1, b=2\n",
      "a=1, b=2\n",
      "3\n"
     ]
    }
   ],
   "source": [
    "# Распаковка и деструктуризация\n",
    "my_dict = {'a': 1, 'b': 2, 'c': 3}\n",
    "\n",
    "# Способ 1: Простое присваивание\n",
    "a_value = my_dict['a']\n",
    "b_value = my_dict['b']\n",
    "\n",
    "# Способ 2: Множественное присваивание (корректный синтаксис)\n",
    "a, b = my_dict['a'], my_dict['b']\n",
    "\n",
    "# Способ 3: Использование itemgetter\n",
    "from operator import itemgetter\n",
    "a, b = itemgetter('a', 'b')(my_dict)\n",
    "print(f\"itemgetter a={a}, b={b}\")\n",
    "# Способ 4: Для Python 3.10+ - Pattern Matching (самый современный)\n",
    "match my_dict:\n",
    "    case {'a': a, 'b': b}:\n",
    "        print(f\"a={a}, b={b}\")  # a=1, b=2\n",
    "\n",
    "# Способ 5: Распаковка в функции\n",
    "def process_data(a, b):\n",
    "    return a + b\n",
    "\n",
    "# создаем подмножество словаря\n",
    "result = process_data(**{k: my_dict[k] for k in ['a', 'b']})\n",
    "print(result)  # 3"
   ]
  },
  {
   "cell_type": "code",
   "execution_count": 12,
   "metadata": {},
   "outputs": [],
   "source": [
    "# Безопасная деструктуризация с проверками\n",
    "# С проверкой существования ключей\n",
    "keys_to_extract = ['a', 'b', 'd']\n",
    "extracted = {k: my_dict.get(k) for k in keys_to_extract}\n",
    "a_val, b_val, d_val = extracted['a'], extracted['b'], extracted['d']\n",
    "\n",
    "# Или с использованием try-except\n",
    "try:\n",
    "    a_val, b_val = my_dict['a'], my_dict['b']\n",
    "except KeyError as e:\n",
    "    print(f\"Отсутствует ключ: {e}\")"
   ]
  },
  {
   "cell_type": "code",
   "execution_count": 13,
   "metadata": {},
   "outputs": [
    {
     "name": "stdout",
     "output_type": "stream",
     "text": [
      "1 2\n",
      "1 2\n",
      "1 2\n",
      "1 2\n"
     ]
    }
   ],
   "source": [
    "# Альтернативные подходы к деструктуризации\n",
    "my_dict = {'a': 1, 'b': 2, 'c': 3}\n",
    "\n",
    "# Способ 1: Через промежуточный словарь (корректно)\n",
    "selected = {k: my_dict[k] for k in ['a', 'b']}\n",
    "a_val, b_val = selected['a'], selected['b']\n",
    "print(a_val, b_val)  # 1 2\n",
    "\n",
    "# Способ 2: Использование генератора\n",
    "a_val, b_val = (my_dict[k] for k in ['a', 'b'])\n",
    "print(a_val, b_val)  # 1 2\n",
    "\n",
    "# Способ 3: Функция для безопасной деструктуризации\n",
    "def extract_keys(d, keys):\n",
    "    return [d.get(key) for key in keys]\n",
    "\n",
    "a_val, b_val = extract_keys(my_dict, ['a', 'b'])\n",
    "print(a_val, b_val)  # 1 2\n",
    "\n",
    "# Способ 4: Использование map\n",
    "a_val, b_val = map(my_dict.get, ['a', 'b'])\n",
    "print(a_val, b_val)  # 1 2"
   ]
  },
  {
   "cell_type": "code",
   "execution_count": 14,
   "metadata": {},
   "outputs": [
    {
     "name": "stdout",
     "output_type": "stream",
     "text": [
      "a=1, b=2\n",
      "Положительные значения: 1, 2\n"
     ]
    }
   ],
   "source": [
    "# Современный Python 3.10+ Pattern Matching\n",
    "# Самый чистый способ деструктуризации\n",
    "match my_dict:\n",
    "    case {'a': extracted_a, 'b': extracted_b}:\n",
    "        print(f\"a={extracted_a}, b={extracted_b}\")  # a=1, b=2\n",
    "    case _:\n",
    "        print(\"Не все ключи найдены\")\n",
    "\n",
    "# С дополнительными проверками\n",
    "match my_dict:\n",
    "    case {'a': a_val, 'b': b_val} if a_val > 0:\n",
    "        print(f\"Положительные значения: {a_val}, {b_val}\")\n",
    "    case {'a': a_val, 'b': b_val}:\n",
    "        print(f\"Значения: {a_val}, {b_val}\")"
   ]
  },
  {
   "cell_type": "code",
   "execution_count": 15,
   "metadata": {},
   "outputs": [
    {
     "name": "stdout",
     "output_type": "stream",
     "text": [
      "1 2\n",
      "1 2 0\n"
     ]
    }
   ],
   "source": [
    "# Практическая утилита для деструктуризации\n",
    "def destructure(dictionary, *keys, default=None):\n",
    "    \"\"\"Безопасная деструктуризация словаря\"\"\"\n",
    "    return [dictionary.get(key, default) for key in keys]\n",
    "\n",
    "# Использование\n",
    "a_val, b_val = destructure(my_dict, 'a', 'b')\n",
    "print(a_val, b_val)  # 1 2\n",
    "\n",
    "# С значением по умолчанию\n",
    "a_val, b_val, x_val = destructure(my_dict, 'a', 'b', 'x', default=0)\n",
    "print(a_val, b_val, x_val)  # 1 2 0"
   ]
  },
  {
   "cell_type": "code",
   "execution_count": 20,
   "metadata": {},
   "outputs": [
    {
     "name": "stdout",
     "output_type": "stream",
     "text": [
      "['a', 'b', 'c']\n",
      "[1, 2, 3]\n",
      "{'a': 1, 'b': 4, 'c': 9}\n",
      "{'b': 2, 'c': 3}\n"
     ]
    }
   ],
   "source": [
    "# Методы с преобразованием\n",
    "# Получение списка ключей/значений\n",
    "key_list = list(my_dict.keys())\n",
    "print(key_list)\n",
    "value_list = list(my_dict.values())\n",
    "print(value_list)\n",
    "# Словарные включения (dict comprehensions)\n",
    "squared = {k: v**2 for k, v in my_dict.items()}\n",
    "print(squared)\n",
    "# Фильтрация\n",
    "filtered = {k: v for k, v in my_dict.items() if v > 1}\n",
    "print(filtered)"
   ]
  },
  {
   "cell_type": "code",
   "execution_count": 21,
   "metadata": {},
   "outputs": [
    {
     "data": {
      "text/plain": [
       "4"
      ]
     },
     "execution_count": 21,
     "metadata": {},
     "output_type": "execute_result"
    }
   ],
   "source": [
    "# Продвинутые техники\n",
    "from operator import itemgetter\n",
    "\n",
    "# Использование itemgetter\n",
    "getter = itemgetter('a', 'b')\n",
    "a_val, b_val = getter(my_dict)  # (1, 2)\n",
    "\n",
    "# Цепочка словарей (collections.ChainMap)\n",
    "from collections import ChainMap\n",
    "dict1 = {'a': 1, 'b': 2}\n",
    "dict2 = {'b': 3, 'c': 4}\n",
    "chain = ChainMap(dict1, dict2)\n",
    "chain['b']  # 2 (из первого словаря)\n",
    "chain['c']  # 4 (из второго словаря)"
   ]
  },
  {
   "cell_type": "code",
   "execution_count": 29,
   "metadata": {},
   "outputs": [
    {
     "name": "stdout",
     "output_type": "stream",
     "text": [
      "keys =  dict_keys(['a'])\n",
      "42\n"
     ]
    }
   ],
   "source": [
    "# Обработка вложенных словарей\n",
    "nested_dict = {'a': {'b': {'c': 42}}}\n",
    "print('keys = ', nested_dict.keys())\n",
    "# Традиционный способ\n",
    "value = nested_dict['a']['b']['c']\n",
    "\n",
    "# Безопасный доступ с проверками\n",
    "try:\n",
    "    value = nested_dict['a']['b']['c']\n",
    "except KeyError:\n",
    "    value = None\n",
    "\n",
    "# Функция для глубокого доступа\n",
    "def deep_get(d, *keys, default=None):\n",
    "    for key in keys:\n",
    "        try:\n",
    "            d = d[key]\n",
    "        except (KeyError, TypeError):\n",
    "            return default\n",
    "    return d\n",
    "\n",
    "value = deep_get(nested_dict, 'a', 'b', 'c')  # 42\n",
    "print(value)"
   ]
  },
  {
   "cell_type": "code",
   "execution_count": 25,
   "metadata": {},
   "outputs": [
    {
     "name": "stdout",
     "output_type": "stream",
     "text": [
      "defaultdict(<class 'list'>, {'key': ['value']})\n"
     ]
    }
   ],
   "source": [
    "# Использование defaultdict\n",
    "from collections import defaultdict\n",
    "\n",
    "dd = defaultdict(list)\n",
    "dd['key'].append('value')  # Автоматически создает список\n",
    "print(dd)"
   ]
  },
  {
   "cell_type": "code",
   "execution_count": 27,
   "metadata": {},
   "outputs": [
    {
     "name": "stdout",
     "output_type": "stream",
     "text": [
      "b 2\n",
      "not found\n",
      "{'a': 1}\n"
     ]
    }
   ],
   "source": [
    "# Методы для массового извлечения\n",
    "# popitem() - удаляет и возвращает последнюю пару (LIFO)\n",
    "key, value = my_dict.popitem()\n",
    "print(key, value )\n",
    "# pop() с значением по умолчанию\n",
    "value = my_dict.pop('d', 'not found')\n",
    "print(value )\n",
    "# mass extraction with dictionary comprehension\n",
    "selected = {k: my_dict[k] for k in ['a', 'b'] if k in my_dict}\n",
    "print(selected )"
   ]
  },
  {
   "cell_type": "code",
   "execution_count": 28,
   "metadata": {},
   "outputs": [
    {
     "name": "stdout",
     "output_type": "stream",
     "text": [
      "Значение найдено: 1\n"
     ]
    }
   ],
   "source": [
    "# Самые изысканные методы\n",
    "# Использование zip для создания словаря из ключей и значений\n",
    "keys = ['a', 'b', 'c']\n",
    "values = [1, 2, 3]\n",
    "zipped_dict = dict(zip(keys, values))\n",
    "\n",
    "# Моржовый оператор (Python 3.8+) в условиях\n",
    "if (value := my_dict.get('a')) is not None:\n",
    "    print(f\"Значение найдено: {value}\")\n",
    "\n",
    "# Использование | оператора (Python 3.9+)\n",
    "merged = my_dict | {'d': 4}  # Объединение словарей"
   ]
  }
 ],
 "metadata": {
  "kernelspec": {
   "display_name": ".venv_py",
   "language": "python",
   "name": "python3"
  },
  "language_info": {
   "codemirror_mode": {
    "name": "ipython",
    "version": 3
   },
   "file_extension": ".py",
   "mimetype": "text/x-python",
   "name": "python",
   "nbconvert_exporter": "python",
   "pygments_lexer": "ipython3",
   "version": "3.12.3"
  },
  "orig_nbformat": 4
 },
 "nbformat": 4,
 "nbformat_minor": 2
}
