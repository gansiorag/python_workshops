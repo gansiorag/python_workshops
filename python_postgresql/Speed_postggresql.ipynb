{
 "cells": [
  {
   "cell_type": "markdown",
   "id": "c408ee8b",
   "metadata": {},
   "source": [
    "#### Разные хитрые штучки для ускоренной работы с PostgreSQL"
   ]
  },
  {
   "cell_type": "code",
   "execution_count": null,
   "id": "8d7031d3",
   "metadata": {},
   "outputs": [
    {
     "name": "stdout",
     "output_type": "stream",
     "text": [
      "Found existing installation: psycopg2 2.9.10\n",
      "Uninstalling psycopg2-2.9.10:\n",
      "  Would remove:\n",
      "    /media/gansior/t128/python_workshops/.py_venv/lib/python3.12/site-packages/psycopg2-2.9.10.dist-info/*\n",
      "    /media/gansior/t128/python_workshops/.py_venv/lib/python3.12/site-packages/psycopg2/*\n",
      "Proceed (Y/n)? \u001b[31mERROR: Operation cancelled by user\u001b[0m\u001b[31m\n",
      "\u001b[0m^C\n"
     ]
    }
   ],
   "source": [
    "! pip install psycopg2-binary"
   ]
  },
  {
   "cell_type": "code",
   "execution_count": 1,
   "id": "ecae7648",
   "metadata": {},
   "outputs": [],
   "source": [
    "import psycopg2\n",
    "from psycopg2 import sql"
   ]
  },
  {
   "cell_type": "code",
   "execution_count": 2,
   "id": "0442e099",
   "metadata": {},
   "outputs": [],
   "source": [
    "import config as cf"
   ]
  },
  {
   "cell_type": "code",
   "execution_count": 3,
   "id": "0e82deb5",
   "metadata": {},
   "outputs": [],
   "source": [
    "connection = psycopg2.connect(\n",
    "    host=cf.host,            # или IP-адрес сервера БД\n",
    "    port=cf.port,            # порт (по умолчанию 5432)\n",
    "    database=cf.database,    # имя вашей базы данных\n",
    "    user=cf.user,            # имя пользователя PostgreSQL\n",
    "    password=cf.password     # пароль\n",
    ")\n",
    "cur = connection.cursor()"
   ]
  },
  {
   "cell_type": "code",
   "execution_count": 4,
   "id": "26bd18f4",
   "metadata": {},
   "outputs": [],
   "source": [
    "sql = \"\"\"CREATE TABLE proba.adb_stat_dev (\n",
    "            \"source\" text NULL,\n",
    "            event_time timestamp NULL,\n",
    "            schema_name text NULL,\n",
    "            table_name text NULL,\n",
    "            operation_type text NULL,\n",
    "            hash_diff text NOT NULL\n",
    "        );\"\"\"\n",
    "cur.execute(sql)\n",
    "connection.commit()"
   ]
  },
  {
   "cell_type": "code",
   "execution_count": null,
   "id": "5c4fe241",
   "metadata": {},
   "outputs": [],
   "source": []
  },
  {
   "cell_type": "code",
   "execution_count": 6,
   "id": "4301e564",
   "metadata": {},
   "outputs": [],
   "source": [
    "# Контекст на БД"
   ]
  },
  {
   "cell_type": "code",
   "execution_count": 4,
   "id": "f473d676",
   "metadata": {},
   "outputs": [],
   "source": [
    "class DB:\n",
    "    def __init__(self, host='localhost', port=5432, database='', user='', password=''):\n",
    "        self.host = host\n",
    "        self.port = port\n",
    "        self.database = database\n",
    "        self.user = user\n",
    "        self.password = password\n",
    "        \n",
    "    def __enter__(self):\n",
    "        self.connection = psycopg2.connect(\n",
    "            host=self.host,            # или IP-адрес сервера БД\n",
    "            port = self.port,          # порт (по умолчанию 5432)\n",
    "            database=self.database,    # имя вашей базы данных\n",
    "            user=self.user,            # имя пользователя PostgreSQL\n",
    "            password=self.password     # пароль\n",
    "        )\n",
    "        self.cur = self.connection.cursor()\n",
    "        return self.cur\n",
    "        \n",
    "    def __exit__(self, exc_type, exc_val, exc_tb):\n",
    "        self.conn.commit()\n",
    "        self.conn.close()\n",
    "        \n"
   ]
  },
  {
   "cell_type": "code",
   "execution_count": null,
   "id": "fc0b323b",
   "metadata": {},
   "outputs": [],
   "source": [
    "class WorkDB:\n",
    "    \n",
    "    def queryDB(fQuery):\n",
    "        def workers(*args):\n",
    "            with DB(DbPath) as db:\n",
    "                ss =fQuery()\n",
    "                db.execute(ss)\n",
    "        return workers  \n",
    "        \n",
    "    @classmethod\n",
    "    @queryDB\n",
    "    def createrTb():\n",
    "        sql = \"\"\"CREATE TABLE gansior.adb_stat_dev (\n",
    "            \"source\" text NULL,\n",
    "            event_time timestamp NULL,\n",
    "            schema_name text NULL,\n",
    "            table_name text NULL,\n",
    "            operation_type text NULL,\n",
    "            hash_diff text NOT NULL\n",
    "        );\"\"\"\n",
    "        return sql\n",
    "    \n",
    "    @classmethod\n",
    "    @queryDB\n",
    "    def InsertDataTb_sourcesData():\n",
    "        sql = \"INSERT INTO sourcesData (\"\\\n",
    "            \"guidsources,\"\\\n",
    "            \"path_sours, \"\\\n",
    "            \"data_start\"\\\n",
    "            \")\"\\\n",
    "            \" VALUES ('1', 'sdfgsdfg', 'sdfgsdfg'),\"\\\n",
    "            \"('2', 'sdfgsdfg', 'sdfgsdfg'),\"\\\n",
    "            \"('3', 'sdfgsdfg', 'sdfgsdfg'\"\\\n",
    "            \");\"\n",
    "        return sql"
   ]
  },
  {
   "cell_type": "code",
   "execution_count": null,
   "id": "21296547",
   "metadata": {},
   "outputs": [],
   "source": []
  }
 ],
 "metadata": {
  "kernelspec": {
   "display_name": ".py_venv",
   "language": "python",
   "name": "python3"
  },
  "language_info": {
   "codemirror_mode": {
    "name": "ipython",
    "version": 3
   },
   "file_extension": ".py",
   "mimetype": "text/x-python",
   "name": "python",
   "nbconvert_exporter": "python",
   "pygments_lexer": "ipython3",
   "version": "3.12.3"
  }
 },
 "nbformat": 4,
 "nbformat_minor": 5
}
