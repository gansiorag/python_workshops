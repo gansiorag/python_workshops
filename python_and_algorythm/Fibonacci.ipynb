{
 "cells": [
  {
   "cell_type": "code",
   "execution_count": 1,
   "id": "7b536112-b0a4-48ed-ba0f-e94985396a2b",
   "metadata": {
    "tags": []
   },
   "outputs": [],
   "source": [
    "import time"
   ]
  },
  {
   "cell_type": "code",
   "execution_count": 13,
   "id": "ed7276d0-73a1-4d5f-8ab0-5d6c74adeba6",
   "metadata": {
    "tags": []
   },
   "outputs": [],
   "source": [
    "def fib(n) -> int:\n",
    "    k = n\n",
    "    d0 = 0 \n",
    "    d1 = 1\n",
    "    d2 =0\n",
    "    if n == 1: d2 = 1\n",
    "    if n >1 :\n",
    "        while k>1:\n",
    "            d2 = d0 + d1\n",
    "            d0, d1 = d1, d2\n",
    "            k -=1\n",
    "    if n<=0 : d2 = 0\n",
    "    return d2\n",
    "        "
   ]
  },
  {
   "cell_type": "code",
   "execution_count": 28,
   "id": "e769b7d9-9024-4867-acf7-4a5c3a5307a0",
   "metadata": {
    "tags": []
   },
   "outputs": [],
   "source": [
    "def Las_digit_fib(n) -> int:\n",
    "        #необходимо найти последнюю цифру n-го числа Фибоначчи.\n",
    "    k = n\n",
    "    d0 = 0 \n",
    "    d1 = 1\n",
    "    d2 =0\n",
    "    p0 = 0\n",
    "    p1 = 0\n",
    "    p2 = 0\n",
    "    str_d2 = 0\n",
    "    if n <=100 :\n",
    "        if n == 1: d2 = 1\n",
    "        if n<=0 : d2 = 0\n",
    "        while k>1:\n",
    "            d2 = d0 + d1\n",
    "            d0, d1 = d1, d2\n",
    "            k -=1\n",
    "            str_d2 = int(str(d2)[-1])\n",
    "    else:\n",
    "        while k>n - 100:\n",
    "            d2 = d0 + d1\n",
    "            d0, d1 = d1, d2\n",
    "            k -=1\n",
    "        p0 =  int(str(d0)[-1])\n",
    "        p1 =  int(str(d1)[-1])\n",
    "        while k>1:\n",
    "            p2 = (p0 + p1) % 10\n",
    "            p0, p1 = p1, p2\n",
    "            k -=1            \n",
    "        str_d2 = p2\n",
    "    return str_d2"
   ]
  },
  {
   "cell_type": "code",
   "execution_count": 22,
   "id": "49c1d9a4-ce5b-4214-abd9-94d62e6b9bf6",
   "metadata": {
    "tags": []
   },
   "outputs": [
    {
     "name": "stdout",
     "output_type": "stream",
     "text": [
      "0.0002009868621826172\n",
      "12586269025\n"
     ]
    }
   ],
   "source": [
    "start = time.time()\n",
    "dd = fib(50)\n",
    "print(time.time() - start)\n",
    "print(dd)"
   ]
  },
  {
   "cell_type": "code",
   "execution_count": 30,
   "id": "3e44eb7d-c3be-4cb9-9ee6-180eee63d703",
   "metadata": {
    "tags": []
   },
   "outputs": [
    {
     "name": "stdout",
     "output_type": "stream",
     "text": [
      "2\n"
     ]
    }
   ],
   "source": [
    "print(Las_digit_fib(10227777))"
   ]
  },
  {
   "cell_type": "code",
   "execution_count": 56,
   "id": "8e71db86-5277-4b7b-8a84-108c5e4cecf3",
   "metadata": {
    "tags": []
   },
   "outputs": [],
   "source": [
    "def Las_digit_fib_two(n, m) -> int:\n",
    "    #необходимо найти остаток от деления n-го числа Фибоначчи на m.\n",
    "    k = n\n",
    "    d0 = 0 \n",
    "    d1 = 1\n",
    "    d2 =0\n",
    "    dd = int(m)\n",
    "    while k>1:\n",
    "        d2 = d0 + d1\n",
    "        if d2> dd:\n",
    "            d2 = d2 - dd\n",
    "        d0, d1 = d1, d2\n",
    "        k -=1\n",
    "    return d2"
   ]
  },
  {
   "cell_type": "code",
   "execution_count": 58,
   "id": "342e250f-4ed5-4663-b27c-b06b04e8e641",
   "metadata": {
    "tags": []
   },
   "outputs": [
    {
     "name": "stdout",
     "output_type": "stream",
     "text": [
      "3\n"
     ]
    }
   ],
   "source": [
    "print(Las_digit_fib_two(103245253, 5))"
   ]
  },
  {
   "cell_type": "code",
   "execution_count": 59,
   "id": "ddb501b7-7ad0-4f81-a376-0b1c512d04c9",
   "metadata": {
    "tags": []
   },
   "outputs": [],
   "source": [
    "def Las_digit_fib_three(n, m) -> int:\n",
    "    # Даны целые числа 1≤ ≤1018 1≤n≤10**18  и 2≤≤1052≤m≤10**5, необходимо найти остаток от деления n-го числа Фибоначчи на m.\n",
    "    if n <= 1:\n",
    "        return n\n",
    "\n",
    "    arr = [0, 1]\n",
    "    previousMod = 0\n",
    "    currentMod = 1\n",
    "\n",
    "    for i in range(n - 1):\n",
    "        tempMod = previousMod\n",
    "        previousMod = currentMod % m\n",
    "        currentMod = (tempMod + currentMod) % m\n",
    "        arr.append(currentMod)\n",
    "        if currentMod == 1 and previousMod == 0:\n",
    "            index = (n % (i + 1))\n",
    "            return arr[index]\n",
    "\n",
    "    return currentMod"
   ]
  },
  {
   "cell_type": "code",
   "execution_count": 60,
   "id": "4abfb6ae-0d14-495e-9b26-a1d938b89247",
   "metadata": {
    "tags": []
   },
   "outputs": [
    {
     "name": "stdout",
     "output_type": "stream",
     "text": [
      "3\n"
     ]
    }
   ],
   "source": [
    "print(Las_digit_fib_three(103245253, 5))"
   ]
  },
  {
   "cell_type": "code",
   "execution_count": 4,
   "id": "069912ad-f195-4469-98f2-78ed17267d87",
   "metadata": {},
   "outputs": [],
   "source": [
    "aa = 13"
   ]
  },
  {
   "cell_type": "code",
   "execution_count": 5,
   "id": "bfe33fbb",
   "metadata": {},
   "outputs": [
    {
     "data": {
      "text/plain": [
       "2"
      ]
     },
     "execution_count": 5,
     "metadata": {},
     "output_type": "execute_result"
    }
   ],
   "source": [
    "ss = aa//5\n",
    "ss"
   ]
  }
 ],
 "metadata": {
  "kernelspec": {
   "display_name": ".venv",
   "language": "python",
   "name": "python3"
  },
  "language_info": {
   "codemirror_mode": {
    "name": "ipython",
    "version": 3
   },
   "file_extension": ".py",
   "mimetype": "text/x-python",
   "name": "python",
   "nbconvert_exporter": "python",
   "pygments_lexer": "ipython3",
   "version": "3.12.3"
  }
 },
 "nbformat": 4,
 "nbformat_minor": 5
}
