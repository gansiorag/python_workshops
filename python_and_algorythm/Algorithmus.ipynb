{
 "cells": [
  {
   "cell_type": "markdown",
   "id": "72e0f938-d504-49ac-ad21-a592b490fb78",
   "metadata": {
    "tags": []
   },
   "source": [
    "# Algorithms"
   ]
  },
  {
   "cell_type": "code",
   "execution_count": 1,
   "id": "0a87374b-14ee-4591-a319-03a97009eb99",
   "metadata": {
    "tags": []
   },
   "outputs": [],
   "source": [
    "# Data for algorithm\n",
    "import random\n",
    "def list_data(size_arr) -> list:\n",
    "    rezult = []\n",
    "    for _ in range(size_arr):\n",
    "        dd = int(str(random.random()).split('.')[1][:2])\n",
    "        rezult.append(dd)\n",
    "    return rezult\n",
    "        "
   ]
  },
  {
   "cell_type": "code",
   "execution_count": 2,
   "id": "17276a6a-0577-446f-982f-57c62e8e37df",
   "metadata": {
    "tags": []
   },
   "outputs": [],
   "source": [
    "import time"
   ]
  },
  {
   "cell_type": "code",
   "execution_count": 3,
   "id": "b7cc37ae-968c-4230-8089-d62bef797499",
   "metadata": {
    "tags": []
   },
   "outputs": [
    {
     "name": "stdout",
     "output_type": "stream",
     "text": [
      "[20, 63, 95, 91, 73, 73, 84, 79, 75, 12, 45, 10, 66, 78, 22, 47, 23, 39, 59, 9, 25, 24, 83, 5, 8, 18, 95, 69, 76, 57]\n"
     ]
    }
   ],
   "source": [
    "array_p = list_data(30)\n",
    "print(array_p)"
   ]
  },
  {
   "cell_type": "markdown",
   "id": "579cdee2-c971-4110-9c04-22de296b2102",
   "metadata": {},
   "source": [
    "Сортировка пузырьком<br>\n",
    "Сортировка вставкой (insertionSort)<br>\n",
    "Сортировка слиянием <BR>\n",
    "Сортировка Шелла <BR>\n",
    "Сортировка выбором <BR>\n",
    "Сортировка перестановкой<br>\n",
    "\n",
    "    "
   ]
  },
  {
   "cell_type": "code",
   "execution_count": 9,
   "id": "764cf6ec",
   "metadata": {},
   "outputs": [
    {
     "data": {
      "text/plain": [
       "[5,\n",
       " 8,\n",
       " 9,\n",
       " 10,\n",
       " 12,\n",
       " 18,\n",
       " 20,\n",
       " 22,\n",
       " 23,\n",
       " 24,\n",
       " 25,\n",
       " 39,\n",
       " 45,\n",
       " 47,\n",
       " 57,\n",
       " 59,\n",
       " 63,\n",
       " 66,\n",
       " 69,\n",
       " 73,\n",
       " 73,\n",
       " 75,\n",
       " 76,\n",
       " 78,\n",
       " 79,\n",
       " 83,\n",
       " 84,\n",
       " 91,\n",
       " 95,\n",
       " 95]"
      ]
     },
     "execution_count": 9,
     "metadata": {},
     "output_type": "execute_result"
    }
   ],
   "source": [
    "# Сортировка пузырьком\n",
    "def Bublesort(alist  : list)-> list:\n",
    "    last_element_index = len(alist) - 1\n",
    "    for pos_no in range(last_element_index,0, -1):\n",
    "        for idx in range(pos_no):\n",
    "            if alist[idx]>alist[idx + 1]:\n",
    "                alist[idx],alist[idx+1] = alist[idx+1],alist[idx]\n",
    "    return alist\n",
    "dd = Bublesort(array_p)\n",
    "dd"
   ]
  },
  {
   "cell_type": "code",
   "execution_count": 4,
   "id": "f18599f1-ac9d-4ca9-beb2-18fba65ee959",
   "metadata": {},
   "outputs": [],
   "source": [
    "# Сортировка вставкой (insertionSort)\n",
    "def insertionSort(alist : list)-> list:\n",
    "    for index in range(1,len(alist)):\n",
    "        currentvalue = alist[index]\n",
    "        position = index\n",
    "\n",
    "        while position>0 and alist[position-1]>currentvalue:\n",
    "            alist[position]=alist[position-1]\n",
    "            position = position-1\n",
    "        alist[position]=currentvalue\n",
    "    return alist"
   ]
  },
  {
   "cell_type": "code",
   "execution_count": 5,
   "id": "e0218927-ef74-4b04-83fe-ba9f437cd817",
   "metadata": {
    "tags": []
   },
   "outputs": [
    {
     "name": "stdout",
     "output_type": "stream",
     "text": [
      "6.270408630371094e-05\n",
      "[5, 8, 9, 10, 12, 18, 20, 22, 23, 24, 25, 39, 45, 47, 57, 59, 63, 66, 69, 73, 73, 75, 76, 78, 79, 83, 84, 91, 95, 95]\n"
     ]
    }
   ],
   "source": [
    "start = time.time()\n",
    "new_list = insertionSort(array_p)\n",
    "print(time.time() - start)\n",
    "print(new_list)"
   ]
  },
  {
   "cell_type": "code",
   "execution_count": 10,
   "id": "5d36e663-ad2f-4b58-ae4c-9a255201c372",
   "metadata": {},
   "outputs": [
    {
     "data": {
      "text/plain": [
       "[5,\n",
       " 8,\n",
       " 9,\n",
       " 10,\n",
       " 12,\n",
       " 18,\n",
       " 20,\n",
       " 22,\n",
       " 23,\n",
       " 24,\n",
       " 25,\n",
       " 39,\n",
       " 45,\n",
       " 47,\n",
       " 57,\n",
       " 59,\n",
       " 63,\n",
       " 66,\n",
       " 69,\n",
       " 73,\n",
       " 73,\n",
       " 75,\n",
       " 76,\n",
       " 78,\n",
       " 79,\n",
       " 83,\n",
       " 84,\n",
       " 91,\n",
       " 95,\n",
       " 95]"
      ]
     },
     "execution_count": 10,
     "metadata": {},
     "output_type": "execute_result"
    }
   ],
   "source": [
    "# Сортировка слиянием\n",
    "# разработанный в 1940 году Джоном фон Нейманом\n",
    "\n",
    "def merge_sort(list):\n",
    "    if len(list) > 1:\n",
    "        mid = len(list) // 2\n",
    "        left = list[:mid]\n",
    "        right  = list[mid:]\n",
    "        \n",
    "        merge_sort(left)\n",
    "        merge_sort(left)\n",
    "        a = 0\n",
    "        b = 0\n",
    "        c = 0\n",
    "        while a<len(left) and b<len(right):\n",
    "            if left[a]<right[b]:\n",
    "                list[c] = left[a]\n",
    "                a = a + 1\n",
    "            else:\n",
    "                list[c] = right[b]\n",
    "                b = b + 1\n",
    "            c = c + 1\n",
    "        while a<len(left):\n",
    "            list[c]= left[a]\n",
    "            a  = a  +  1\n",
    "            c  = c  +  1\n",
    "        while b<len(right):\n",
    "            list[c]= right[b]\n",
    "            b   = b   +  1\n",
    "            c   = c   +  1\n",
    "    return list\n",
    "\n",
    "d2 = merge_sort(array_p)       \n",
    "d2   "
   ]
  },
  {
   "cell_type": "code",
   "execution_count": 11,
   "id": "0388979a",
   "metadata": {},
   "outputs": [
    {
     "data": {
      "text/plain": [
       "[5,\n",
       " 8,\n",
       " 9,\n",
       " 10,\n",
       " 12,\n",
       " 18,\n",
       " 20,\n",
       " 22,\n",
       " 23,\n",
       " 24,\n",
       " 25,\n",
       " 39,\n",
       " 45,\n",
       " 47,\n",
       " 57,\n",
       " 59,\n",
       " 63,\n",
       " 66,\n",
       " 69,\n",
       " 73,\n",
       " 73,\n",
       " 75,\n",
       " 76,\n",
       " 78,\n",
       " 79,\n",
       " 83,\n",
       " 84,\n",
       " 91,\n",
       " 95,\n",
       " 95]"
      ]
     },
     "execution_count": 11,
     "metadata": {},
     "output_type": "execute_result"
    }
   ],
   "source": [
    "\n",
    "# Сортировка Шелла <BR>\n",
    "def ShellSort(list):\n",
    "    distance = len(list) // 2\n",
    "    while distance > 0:\n",
    "        for i in range(distance, len(list)):\n",
    "            temp = list[i]\n",
    "            j = i\n",
    "        # Сортировка подсписка для текущего значения дистанции\n",
    "        while j >= distance and list[j - distance] > temp:\n",
    "            list[j] = list[j - distance]\n",
    "            j = j-distance\n",
    "            list[j] = temp\n",
    "        # Уменьшаем расстояние до следующего элемента\n",
    "        distance = distance//2\n",
    "    return list\n",
    "d3 = ShellSort(array_p)\n",
    "d3"
   ]
  },
  {
   "cell_type": "code",
   "execution_count": 12,
   "id": "b094ab74",
   "metadata": {},
   "outputs": [
    {
     "data": {
      "text/plain": [
       "[5,\n",
       " 8,\n",
       " 9,\n",
       " 10,\n",
       " 12,\n",
       " 18,\n",
       " 20,\n",
       " 22,\n",
       " 23,\n",
       " 24,\n",
       " 25,\n",
       " 39,\n",
       " 45,\n",
       " 47,\n",
       " 57,\n",
       " 59,\n",
       " 63,\n",
       " 66,\n",
       " 69,\n",
       " 73,\n",
       " 73,\n",
       " 75,\n",
       " 76,\n",
       " 78,\n",
       " 79,\n",
       " 83,\n",
       " 84,\n",
       " 91,\n",
       " 95,\n",
       " 95]"
      ]
     },
     "execution_count": 12,
     "metadata": {},
     "output_type": "execute_result"
    }
   ],
   "source": [
    "# Сортировка выбором\n",
    "def SelectionSort(list):\n",
    "    for fill_slot in range(len(list) - 1, 0, -1):\n",
    "        max_index = 0\n",
    "        for location in range(1, fill_slot + 1):\n",
    "            if list[location] > list[max_index]:\n",
    "                max_index = location\n",
    "        list[fill_slot],list[max_index] = list[max_index],list[fill_slot]\n",
    "    return list\n",
    "\n",
    "d4  = SelectionSort(array_p)\n",
    "d4\n",
    "    "
   ]
  },
  {
   "cell_type": "code",
   "execution_count": null,
   "id": "ac36adac",
   "metadata": {},
   "outputs": [],
   "source": [
    "# Сортировка перестановкой<br>"
   ]
  },
  {
   "cell_type": "markdown",
   "id": "255fad67",
   "metadata": {},
   "source": [
    "## АЛГОРИТМЫ ПОИСКА"
   ]
  },
  {
   "cell_type": "code",
   "execution_count": 14,
   "id": "2807c54e",
   "metadata": {},
   "outputs": [
    {
     "data": {
      "text/plain": [
       "False"
      ]
     },
     "execution_count": 14,
     "metadata": {},
     "output_type": "execute_result"
    }
   ],
   "source": [
    "# линейный поиск (linear search);\n",
    "def LinearSearch(list, item):\n",
    "    index = 0\n",
    "    found = False\n",
    "    # Сравниваем значение с каждым элементом данных\n",
    "    while index < len(list) and found is False:\n",
    "        if list[index] == item:\n",
    "            found = True\n",
    "        else:\n",
    "            index = index + 1\n",
    "    return found\n",
    "kk = LinearSearch(array_p, 150)\n",
    "kk"
   ]
  },
  {
   "cell_type": "code",
   "execution_count": null,
   "id": "a059a1a6",
   "metadata": {},
   "outputs": [],
   "source": [
    "# бинарный поиск (binary search);\n"
   ]
  },
  {
   "cell_type": "code",
   "execution_count": null,
   "id": "21886e34",
   "metadata": {},
   "outputs": [],
   "source": [
    "# интерполяционный поиск (interpolation search)."
   ]
  },
  {
   "cell_type": "markdown",
   "id": "f38b86c2",
   "metadata": {},
   "source": [
    "## ПРЕДСТАВЛЕНИЕ ГРАФОВ"
   ]
  },
  {
   "cell_type": "code",
   "execution_count": 17,
   "id": "7e2b466a",
   "metadata": {},
   "outputs": [],
   "source": [
    "# !pip install networkx\n",
    "import networkx as nx"
   ]
  },
  {
   "cell_type": "code",
   "execution_count": 18,
   "id": "7a4a1ba9",
   "metadata": {},
   "outputs": [],
   "source": [
    "G = nx.Graph()"
   ]
  },
  {
   "cell_type": "code",
   "execution_count": 19,
   "id": "ed32f329",
   "metadata": {},
   "outputs": [],
   "source": [
    "G.add_node(\"Mike\")\n",
    "G.add_nodes_from([\"Amine\", \"Wassim\", \"Nick\"])"
   ]
  },
  {
   "cell_type": "code",
   "execution_count": 20,
   "id": "2b6690b8",
   "metadata": {},
   "outputs": [],
   "source": [
    "G.add_edge(\"Mike\", \"Amine\")"
   ]
  },
  {
   "cell_type": "code",
   "execution_count": 26,
   "id": "a20de3fa",
   "metadata": {},
   "outputs": [
    {
     "data": {
      "text/plain": [
       "NodeView(('Mike', 'Amine', 'Wassim', 'Nick'))"
      ]
     },
     "execution_count": 26,
     "metadata": {},
     "output_type": "execute_result"
    }
   ],
   "source": [
    "G.nodes"
   ]
  },
  {
   "cell_type": "code",
   "execution_count": 23,
   "id": "5d379446",
   "metadata": {},
   "outputs": [
    {
     "data": {
      "text/plain": [
       "EdgeView([('Mike', 'Amine')])"
      ]
     },
     "execution_count": 23,
     "metadata": {},
     "output_type": "execute_result"
    }
   ],
   "source": [
    "G.edges"
   ]
  },
  {
   "cell_type": "markdown",
   "id": "21205d7e",
   "metadata": {},
   "source": [
    "## Алгоритмы машинного обучения без учителя"
   ]
  },
  {
   "cell_type": "code",
   "execution_count": 27,
   "id": "d14d2bf9",
   "metadata": {},
   "outputs": [],
   "source": [
    "# Обучение без учителя (unsupervised learning).\n",
    "# Алгоритмы кластеризации (clustering algorithms).\n",
    "# Снижение размерности (dimensionality reduction).\n",
    "# Поиск ассоциативных правил (association rules mining)."
   ]
  },
  {
   "cell_type": "code",
   "execution_count": 28,
   "id": "d787af9f",
   "metadata": {},
   "outputs": [],
   "source": [
    "# unsupervised learning\n",
    "# Обучение без учителя (unsupervised learning) — это процесс придани\n",
    "# структуры неструктурированным данным путем обнаружения и использования\n",
    "# присущих им общих признаков.\n",
    "# В настоящее время есть два популярных способа построения\n",
    "# жизнен­ного цикла майнинга данных:\n",
    "# CRISP-DM (Cross-Industry Standard Process for Data Mining);\n",
    "# SEMMA (Sample, Explore, Modify, Model, Access)."
   ]
  },
  {
   "cell_type": "markdown",
   "id": "95d38596",
   "metadata": {},
   "source": [
    "### Кластеризация методом k-средних"
   ]
  },
  {
   "cell_type": "code",
   "execution_count": 29,
   "id": "77edd5a1",
   "metadata": {},
   "outputs": [],
   "source": [
    "from sklearn import cluster\n",
    "import pandas as pd\n",
    "import numpy as np"
   ]
  },
  {
   "cell_type": "code",
   "execution_count": 30,
   "id": "25869a34",
   "metadata": {},
   "outputs": [],
   "source": [
    "dataset = pd.DataFrame({\n",
    "'x': [11, 21, 28, 17, 29, 33, 24, 45, 45, 52, 51, 52, 55, 53,\n",
    "55, 61, 62, 70, 72, 10],\n",
    "'y': [39, 36, 30, 52, 53, 46, 55, 59, 63, 70, 66, 63, 58, 23,\n",
    "14, 8, 18, 7, 24, 10]\n",
    "})"
   ]
  },
  {
   "cell_type": "code",
   "execution_count": null,
   "id": "27fbfdd7",
   "metadata": {},
   "outputs": [],
   "source": [
    "dataset"
   ]
  },
  {
   "cell_type": "code",
   "execution_count": 34,
   "id": "e382db76",
   "metadata": {},
   "outputs": [],
   "source": [
    "X = dataset['x']\n",
    "y  = dataset[['y']].values"
   ]
  },
  {
   "cell_type": "code",
   "execution_count": 35,
   "id": "d38412b2",
   "metadata": {},
   "outputs": [
    {
     "data": {
      "text/plain": [
       "<Axes: ylabel='Frequency'>"
      ]
     },
     "execution_count": 35,
     "metadata": {},
     "output_type": "execute_result"
    },
    {
     "data": {
      "image/png": "[encoded data removed]",
      "text/plain": [
       "<Figure size 640x480 with 1 Axes>"
      ]
     },
     "metadata": {},
     "output_type": "display_data"
    }
   ],
   "source": [
    "X.plot.hist()"
   ]
  },
  {
   "cell_type": "code",
   "execution_count": 36,
   "id": "2dde6c1a",
   "metadata": {},
   "outputs": [
    {
     "name": "stderr",
     "output_type": "stream",
     "text": [
      "/home/al/.local/lib/python3.10/site-packages/sklearn/utils/validation.py:767: FutureWarning: is_sparse is deprecated and will be removed in a future version. Check `isinstance(dtype, pd.SparseDtype)` instead.\n",
      "  if not hasattr(array, \"sparse\") and array.dtypes.apply(is_sparse).any():\n",
      "/home/al/.local/lib/python3.10/site-packages/sklearn/utils/validation.py:605: FutureWarning: is_sparse is deprecated and will be removed in a future version. Check `isinstance(dtype, pd.SparseDtype)` instead.\n",
      "  if is_sparse(pd_dtype):\n",
      "/home/al/.local/lib/python3.10/site-packages/sklearn/utils/validation.py:614: FutureWarning: is_sparse is deprecated and will be removed in a future version. Check `isinstance(dtype, pd.SparseDtype)` instead.\n",
      "  if is_sparse(pd_dtype) or not is_extension_array_dtype(pd_dtype):\n",
      "/home/al/.local/lib/python3.10/site-packages/sklearn/cluster/_kmeans.py:870: FutureWarning: The default value of `n_init` will change from 10 to 'auto' in 1.4. Set the value of `n_init` explicitly to suppress the warning\n",
      "  warnings.warn(\n"
     ]
    },
    {
     "data": {
      "text/html": [
       "<style>#sk-container-id-1 {color: black;background-color: white;}#sk-container-id-1 pre{padding: 0;}#sk-container-id-1 div.sk-toggleable {background-color: white;}#sk-container-id-1 label.sk-toggleable__label {cursor: pointer;display: block;width: 100%;margin-bottom: 0;padding: 0.3em;box-sizing: border-box;text-align: center;}#sk-container-id-1 label.sk-toggleable__label-arrow:before {content: \"▸\";float: left;margin-right: 0.25em;color: #696969;}#sk-container-id-1 label.sk-toggleable__label-arrow:hover:before {color: black;}#sk-container-id-1 div.sk-estimator:hover label.sk-toggleable__label-arrow:before {color: black;}#sk-container-id-1 div.sk-toggleable__content {max-height: 0;max-width: 0;overflow: hidden;text-align: left;background-color: #f0f8ff;}#sk-container-id-1 div.sk-toggleable__content pre {margin: 0.2em;color: black;border-radius: 0.25em;background-color: #f0f8ff;}#sk-container-id-1 input.sk-toggleable__control:checked~div.sk-toggleable__content {max-height: 200px;max-width: 100%;overflow: auto;}#sk-container-id-1 input.sk-toggleable__control:checked~label.sk-toggleable__label-arrow:before {content: \"▾\";}#sk-container-id-1 div.sk-estimator input.sk-toggleable__control:checked~label.sk-toggleable__label {background-color: #d4ebff;}#sk-container-id-1 div.sk-label input.sk-toggleable__control:checked~label.sk-toggleable__label {background-color: #d4ebff;}#sk-container-id-1 input.sk-hidden--visually {border: 0;clip: rect(1px 1px 1px 1px);clip: rect(1px, 1px, 1px, 1px);height: 1px;margin: -1px;overflow: hidden;padding: 0;position: absolute;width: 1px;}#sk-container-id-1 div.sk-estimator {font-family: monospace;background-color: #f0f8ff;border: 1px dotted black;border-radius: 0.25em;box-sizing: border-box;margin-bottom: 0.5em;}#sk-container-id-1 div.sk-estimator:hover {background-color: #d4ebff;}#sk-container-id-1 div.sk-parallel-item::after {content: \"\";width: 100%;border-bottom: 1px solid gray;flex-grow: 1;}#sk-container-id-1 div.sk-label:hover label.sk-toggleable__label {background-color: #d4ebff;}#sk-container-id-1 div.sk-serial::before {content: \"\";position: absolute;border-left: 1px solid gray;box-sizing: border-box;top: 0;bottom: 0;left: 50%;z-index: 0;}#sk-container-id-1 div.sk-serial {display: flex;flex-direction: column;align-items: center;background-color: white;padding-right: 0.2em;padding-left: 0.2em;position: relative;}#sk-container-id-1 div.sk-item {position: relative;z-index: 1;}#sk-container-id-1 div.sk-parallel {display: flex;align-items: stretch;justify-content: center;background-color: white;position: relative;}#sk-container-id-1 div.sk-item::before, #sk-container-id-1 div.sk-parallel-item::before {content: \"\";position: absolute;border-left: 1px solid gray;box-sizing: border-box;top: 0;bottom: 0;left: 50%;z-index: -1;}#sk-container-id-1 div.sk-parallel-item {display: flex;flex-direction: column;z-index: 1;position: relative;background-color: white;}#sk-container-id-1 div.sk-parallel-item:first-child::after {align-self: flex-end;width: 50%;}#sk-container-id-1 div.sk-parallel-item:last-child::after {align-self: flex-start;width: 50%;}#sk-container-id-1 div.sk-parallel-item:only-child::after {width: 0;}#sk-container-id-1 div.sk-dashed-wrapped {border: 1px dashed gray;margin: 0 0.4em 0.5em 0.4em;box-sizing: border-box;padding-bottom: 0.4em;background-color: white;}#sk-container-id-1 div.sk-label label {font-family: monospace;font-weight: bold;display: inline-block;line-height: 1.2em;}#sk-container-id-1 div.sk-label-container {text-align: center;}#sk-container-id-1 div.sk-container {/* jupyter's `normalize.less` sets `[hidden] { display: none; }` but bootstrap.min.css set `[hidden] { display: none !important; }` so we also need the `!important` here to be able to override the default hidden behavior on the sphinx rendered scikit-learn.org. See: https://github.com/scikit-learn/scikit-learn/issues/21755 */display: inline-block !important;position: relative;}#sk-container-id-1 div.sk-text-repr-fallback {display: none;}</style><div id=\"sk-container-id-1\" class=\"sk-top-container\"><div class=\"sk-text-repr-fallback\"><pre>KMeans(n_clusters=2)</pre><b>In a Jupyter environment, please rerun this cell to show the HTML representation or trust the notebook. <br />On GitHub, the HTML representation is unable to render, please try loading this page with nbviewer.org.</b></div><div class=\"sk-container\" hidden><div class=\"sk-item\"><div class=\"sk-estimator sk-toggleable\"><input class=\"sk-toggleable__control sk-hidden--visually\" id=\"sk-estimator-id-1\" type=\"checkbox\" checked><label for=\"sk-estimator-id-1\" class=\"sk-toggleable__label sk-toggleable__label-arrow\">KMeans</label><div class=\"sk-toggleable__content\"><pre>KMeans(n_clusters=2)</pre></div></div></div></div></div>"
      ],
      "text/plain": [
       "KMeans(n_clusters=2)"
      ]
     },
     "execution_count": 36,
     "metadata": {},
     "output_type": "execute_result"
    }
   ],
   "source": [
    "myKmeans = cluster.KMeans(n_clusters=2)\n",
    "myKmeans.fit(dataset)"
   ]
  },
  {
   "cell_type": "code",
   "execution_count": 37,
   "id": "09b792f3",
   "metadata": {},
   "outputs": [],
   "source": [
    "centroids = myKmeans.cluster_centers_\n",
    "labels = myKmeans.labels_"
   ]
  },
  {
   "cell_type": "code",
   "execution_count": 38,
   "id": "f5d2d786",
   "metadata": {},
   "outputs": [
    {
     "data": {
      "text/plain": [
       "array([0, 0, 0, 0, 0, 0, 0, 0, 0, 0, 0, 0, 0, 1, 1, 1, 1, 1, 1, 0],\n",
       "      dtype=int32)"
      ]
     },
     "execution_count": 38,
     "metadata": {},
     "output_type": "execute_result"
    }
   ],
   "source": [
    "labels"
   ]
  },
  {
   "cell_type": "code",
   "execution_count": 39,
   "id": "d625e4d7",
   "metadata": {},
   "outputs": [
    {
     "data": {
      "text/plain": [
       "array([[33.78571429, 50.        ],\n",
       "       [62.16666667, 15.66666667]])"
      ]
     },
     "execution_count": 39,
     "metadata": {},
     "output_type": "execute_result"
    }
   ],
   "source": [
    "centroids"
   ]
  },
  {
   "cell_type": "code",
   "execution_count": 41,
   "id": "042e5bd5",
   "metadata": {},
   "outputs": [
    {
     "data": {
      "image/png": "[encoded data removed]",
      "text/plain": [
       "<Figure size 640x480 with 1 Axes>"
      ]
     },
     "metadata": {},
     "output_type": "display_data"
    }
   ],
   "source": [
    "import matplotlib.pyplot as plt\n",
    "plt.scatter(X, y, s=10)\n",
    "plt.scatter(centroids[0], centroids[1], c='red', s=100)\n",
    "plt.show()"
   ]
  },
  {
   "cell_type": "markdown",
   "id": "2f8bd78c",
   "metadata": {},
   "source": [
    "### Иерархическая кластеризация"
   ]
  },
  {
   "cell_type": "code",
   "execution_count": 43,
   "id": "f9441451",
   "metadata": {},
   "outputs": [],
   "source": [
    "from sklearn.cluster import AgglomerativeClustering\n",
    "import random"
   ]
  },
  {
   "cell_type": "code",
   "execution_count": 49,
   "id": "db0dfe46",
   "metadata": {},
   "outputs": [],
   "source": [
    "l50 = [i for i in range(50)]\n",
    "l100 = [i for i in range(60, 100)]\n",
    "dd50 = random.choices(l50, k=100)\n",
    "dd100  = random.choices(l100, k=100)"
   ]
  },
  {
   "cell_type": "code",
   "execution_count": 50,
   "id": "0733b791",
   "metadata": {},
   "outputs": [],
   "source": [
    "dataset = pd.DataFrame({\n",
    "'x': dd50[:50] + dd100[:50],\n",
    "'y': dd50[50:100]  + dd100[50:100],\n",
    "})"
   ]
  },
  {
   "cell_type": "code",
   "execution_count": 51,
   "id": "5eecc206",
   "metadata": {},
   "outputs": [
    {
     "data": {
      "text/plain": [
       "<Axes: ylabel='Frequency'>"
      ]
     },
     "execution_count": 51,
     "metadata": {},
     "output_type": "execute_result"
    },
    {
     "data": {
      "image/png": "[encoded data removed]",
      "text/plain": [
       "<Figure size 640x480 with 1 Axes>"
      ]
     },
     "metadata": {},
     "output_type": "display_data"
    }
   ],
   "source": [
    "dataset['x'].plot.hist()"
   ]
  },
  {
   "cell_type": "code",
   "execution_count": 53,
   "id": "d2f25f45",
   "metadata": {},
   "outputs": [
    {
     "name": "stderr",
     "output_type": "stream",
     "text": [
      "/home/al/.local/lib/python3.10/site-packages/sklearn/utils/validation.py:767: FutureWarning: is_sparse is deprecated and will be removed in a future version. Check `isinstance(dtype, pd.SparseDtype)` instead.\n",
      "  if not hasattr(array, \"sparse\") and array.dtypes.apply(is_sparse).any():\n",
      "/home/al/.local/lib/python3.10/site-packages/sklearn/utils/validation.py:605: FutureWarning: is_sparse is deprecated and will be removed in a future version. Check `isinstance(dtype, pd.SparseDtype)` instead.\n",
      "  if is_sparse(pd_dtype):\n",
      "/home/al/.local/lib/python3.10/site-packages/sklearn/utils/validation.py:614: FutureWarning: is_sparse is deprecated and will be removed in a future version. Check `isinstance(dtype, pd.SparseDtype)` instead.\n",
      "  if is_sparse(pd_dtype) or not is_extension_array_dtype(pd_dtype):\n",
      "/home/al/.local/lib/python3.10/site-packages/sklearn/cluster/_agglomerative.py:983: FutureWarning: Attribute `affinity` was deprecated in version 1.2 and will be removed in 1.4. Use `metric` instead\n",
      "  warnings.warn(\n"
     ]
    },
    {
     "data": {
      "text/plain": [
       "array([0, 0, 0, 0, 0, 0, 0, 0, 0, 0, 0, 0, 0, 0, 0, 0, 0, 0, 0, 0, 0, 0,\n",
       "       0, 0, 0, 0, 0, 0, 0, 0, 0, 0, 0, 0, 0, 0, 0, 0, 0, 0, 0, 0, 0, 0,\n",
       "       0, 0, 0, 0, 0, 0, 1, 1, 1, 1, 1, 1, 1, 1, 1, 1, 1, 1, 1, 1, 1, 1,\n",
       "       1, 1, 1, 1, 1, 1, 1, 1, 1, 1, 1, 1, 1, 1, 1, 1, 1, 1, 1, 1, 1, 1,\n",
       "       1, 1, 1, 1, 1, 1, 1, 1, 1, 1, 1, 1])"
      ]
     },
     "execution_count": 53,
     "metadata": {},
     "output_type": "execute_result"
    }
   ],
   "source": [
    "cluster = AgglomerativeClustering(n_clusters=2,\n",
    "affinity='euclidean', linkage='ward')\n",
    "cluster.fit_predict(dataset)"
   ]
  },
  {
   "cell_type": "code",
   "execution_count": 54,
   "id": "b67ba643",
   "metadata": {},
   "outputs": [
    {
     "data": {
      "text/plain": [
       "array([0, 0, 0, 0, 0, 0, 0, 0, 0, 0, 0, 0, 0, 0, 0, 0, 0, 0, 0, 0, 0, 0,\n",
       "       0, 0, 0, 0, 0, 0, 0, 0, 0, 0, 0, 0, 0, 0, 0, 0, 0, 0, 0, 0, 0, 0,\n",
       "       0, 0, 0, 0, 0, 0, 1, 1, 1, 1, 1, 1, 1, 1, 1, 1, 1, 1, 1, 1, 1, 1,\n",
       "       1, 1, 1, 1, 1, 1, 1, 1, 1, 1, 1, 1, 1, 1, 1, 1, 1, 1, 1, 1, 1, 1,\n",
       "       1, 1, 1, 1, 1, 1, 1, 1, 1, 1, 1, 1])"
      ]
     },
     "execution_count": 54,
     "metadata": {},
     "output_type": "execute_result"
    }
   ],
   "source": [
    "cluster.labels_"
   ]
  },
  {
   "cell_type": "code",
   "execution_count": 57,
   "id": "883f09a7",
   "metadata": {},
   "outputs": [
    {
     "ename": "AttributeError",
     "evalue": "'AgglomerativeClustering' object has no attribute 'centers_'",
     "output_type": "error",
     "traceback": [
      "\u001b[0;31m---------------------------------------------------------------------------\u001b[0m",
      "\u001b[0;31mAttributeError\u001b[0m                            Traceback (most recent call last)",
      "Cell \u001b[0;32mIn[57], line 1\u001b[0m\n\u001b[0;32m----> 1\u001b[0m centroids \u001b[38;5;241m=\u001b[39m \u001b[43mcluster\u001b[49m\u001b[38;5;241;43m.\u001b[39;49m\u001b[43mcenters_\u001b[49m\n\u001b[1;32m      2\u001b[0m labels \u001b[38;5;241m=\u001b[39m cluster\u001b[38;5;241m.\u001b[39mlabels_\n",
      "\u001b[0;31mAttributeError\u001b[0m: 'AgglomerativeClustering' object has no attribute 'centers_'"
     ]
    }
   ],
   "source": [
    "centroids = cluster.centers_\n",
    "labels = cluster.labels_"
   ]
  },
  {
   "cell_type": "code",
   "execution_count": 58,
   "id": "8c2d88b5",
   "metadata": {},
   "outputs": [
    {
     "data": {
      "image/png": "[encoded data removed]",
      "text/plain": [
       "<Figure size 640x480 with 1 Axes>"
      ]
     },
     "metadata": {},
     "output_type": "display_data"
    }
   ],
   "source": [
    "plt.scatter(dataset['x'], dataset['y'], s=10)\n",
    "#plt.scatter(centroids[0], centroids[1], c='red', s=100)\n",
    "plt.show()"
   ]
  },
  {
   "cell_type": "markdown",
   "id": "6da869b5",
   "metadata": {},
   "source": [
    "### СНИЖЕНИЕ РАЗМЕРНОСТИ"
   ]
  },
  {
   "cell_type": "code",
   "execution_count": null,
   "id": "1f22b1d7",
   "metadata": {},
   "outputs": [],
   "source": [
    "# ----- метод главных компонент, PCA (principal component analysis). Линейный\n",
    "# алгоритм неконтролируемого машинного обучения;\n",
    "# ----- линейный дискриминантный анализ, LDA (linear discriminant analysis).\n",
    "# Линейный алгоритм машинного обучения с учителем;\n",
    "# ----- ядерный метод главных компонент, KPCA (kernel principal component\n",
    "# analysis). Нелинейный алгоритм."
   ]
  },
  {
   "cell_type": "code",
   "execution_count": 73,
   "id": "1e3b1f38",
   "metadata": {},
   "outputs": [],
   "source": [
    "from datasets import list_datasets as listd\n",
    "from datasets import load_dataset as loadd"
   ]
  },
  {
   "cell_type": "code",
   "execution_count": 70,
   "id": "2a943825",
   "metadata": {},
   "outputs": [],
   "source": [
    "# ! pip install datasets"
   ]
  },
  {
   "cell_type": "code",
   "execution_count": 71,
   "id": "2baea905",
   "metadata": {},
   "outputs": [
    {
     "name": "stderr",
     "output_type": "stream",
     "text": [
      "/tmp/ipykernel_119277/1077337376.py:1: FutureWarning: list_datasets is deprecated and will be removed in the next major version of datasets. Use 'huggingface_hub.list_datasets' instead.\n",
      "  datasets_list = ld()\n"
     ]
    },
    {
     "data": {
      "text/plain": [
       "167267"
      ]
     },
     "execution_count": 71,
     "metadata": {},
     "output_type": "execute_result"
    }
   ],
   "source": [
    "datasets_list = listd()\n",
    "len(datasets_list)"
   ]
  },
  {
   "cell_type": "code",
   "execution_count": 75,
   "id": "81b5d4ce",
   "metadata": {},
   "outputs": [],
   "source": [
    "diris = loadd('scikit-learn/iris')"
   ]
  },
  {
   "cell_type": "code",
   "execution_count": 76,
   "id": "dee16916",
   "metadata": {},
   "outputs": [
    {
     "data": {
      "text/plain": [
       "DatasetDict({\n",
       "    train: Dataset({\n",
       "        features: ['Id', 'SepalLengthCm', 'SepalWidthCm', 'PetalLengthCm', 'PetalWidthCm', 'Species'],\n",
       "        num_rows: 150\n",
       "    })\n",
       "})"
      ]
     },
     "execution_count": 76,
     "metadata": {},
     "output_type": "execute_result"
    }
   ],
   "source": [
    "diris"
   ]
  },
  {
   "cell_type": "code",
   "execution_count": 78,
   "id": "f722f22b",
   "metadata": {},
   "outputs": [
    {
     "data": {
      "text/plain": [
       "{'train': MemoryMappedTable\n",
       " Id: int64\n",
       " SepalLengthCm: double\n",
       " SepalWidthCm: double\n",
       " PetalLengthCm: double\n",
       " PetalWidthCm: double\n",
       " Species: string\n",
       " ----\n",
       " Id: [[1,2,3,4,5,...,146,147,148,149,150]]\n",
       " SepalLengthCm: [[5.1,4.9,4.7,4.6,5,...,6.7,6.3,6.5,6.2,5.9]]\n",
       " SepalWidthCm: [[3.5,3,3.2,3.1,3.6,...,3,2.5,3,3.4,3]]\n",
       " PetalLengthCm: [[1.4,1.4,1.3,1.5,1.4,...,5.2,5,5.2,5.4,5.1]]\n",
       " PetalWidthCm: [[0.2,0.2,0.2,0.2,0.2,...,2.3,1.9,2,2.3,1.8]]\n",
       " Species: [[\"Iris-setosa\",\"Iris-setosa\",\"Iris-setosa\",\"Iris-setosa\",\"Iris-setosa\",...,\"Iris-virginica\",\"Iris-virginica\",\"Iris-virginica\",\"Iris-virginica\",\"Iris-virginica\"]]}"
      ]
     },
     "execution_count": 78,
     "metadata": {},
     "output_type": "execute_result"
    }
   ],
   "source": [
    "diris.data"
   ]
  },
  {
   "cell_type": "code",
   "execution_count": 89,
   "id": "6078f213",
   "metadata": {},
   "outputs": [],
   "source": [
    "from sklearn import datasets"
   ]
  },
  {
   "cell_type": "code",
   "execution_count": 90,
   "id": "c8e50a74",
   "metadata": {},
   "outputs": [],
   "source": [
    "data_i = datasets.load_iris()"
   ]
  },
  {
   "cell_type": "code",
   "execution_count": 91,
   "id": "371c56a5",
   "metadata": {},
   "outputs": [
    {
     "name": "stdout",
     "output_type": "stream",
     "text": [
      "dict_keys(['data', 'target', 'frame', 'target_names', 'DESCR', 'feature_names', 'filename', 'data_module'])\n"
     ]
    }
   ],
   "source": [
    "print(data_i.keys())"
   ]
  },
  {
   "cell_type": "code",
   "execution_count": 92,
   "id": "45d736e0",
   "metadata": {},
   "outputs": [],
   "source": [
    "data_iris = pd.DataFrame(data= np.c_[data_i['data'], data_i['target']],\n",
    "                     columns= data_i['feature_names'] + ['target'])"
   ]
  },
  {
   "cell_type": "code",
   "execution_count": 94,
   "id": "f686604a",
   "metadata": {},
   "outputs": [
    {
     "data": {
      "text/html": [
       "<div>\n",
       "<style scoped>\n",
       "    .dataframe tbody tr th:only-of-type {\n",
       "        vertical-align: middle;\n",
       "    }\n",
       "\n",
       "    .dataframe tbody tr th {\n",
       "        vertical-align: top;\n",
       "    }\n",
       "\n",
       "    .dataframe thead th {\n",
       "        text-align: right;\n",
       "    }\n",
       "</style>\n",
       "<table border=\"1\" class=\"dataframe\">\n",
       "  <thead>\n",
       "    <tr style=\"text-align: right;\">\n",
       "      <th></th>\n",
       "      <th>sepal length (cm)</th>\n",
       "      <th>sepal width (cm)</th>\n",
       "      <th>petal length (cm)</th>\n",
       "      <th>petal width (cm)</th>\n",
       "      <th>target</th>\n",
       "    </tr>\n",
       "  </thead>\n",
       "  <tbody>\n",
       "    <tr>\n",
       "      <th>0</th>\n",
       "      <td>5.1</td>\n",
       "      <td>3.5</td>\n",
       "      <td>1.4</td>\n",
       "      <td>0.2</td>\n",
       "      <td>0.0</td>\n",
       "    </tr>\n",
       "    <tr>\n",
       "      <th>1</th>\n",
       "      <td>4.9</td>\n",
       "      <td>3.0</td>\n",
       "      <td>1.4</td>\n",
       "      <td>0.2</td>\n",
       "      <td>0.0</td>\n",
       "    </tr>\n",
       "    <tr>\n",
       "      <th>2</th>\n",
       "      <td>4.7</td>\n",
       "      <td>3.2</td>\n",
       "      <td>1.3</td>\n",
       "      <td>0.2</td>\n",
       "      <td>0.0</td>\n",
       "    </tr>\n",
       "    <tr>\n",
       "      <th>3</th>\n",
       "      <td>4.6</td>\n",
       "      <td>3.1</td>\n",
       "      <td>1.5</td>\n",
       "      <td>0.2</td>\n",
       "      <td>0.0</td>\n",
       "    </tr>\n",
       "    <tr>\n",
       "      <th>4</th>\n",
       "      <td>5.0</td>\n",
       "      <td>3.6</td>\n",
       "      <td>1.4</td>\n",
       "      <td>0.2</td>\n",
       "      <td>0.0</td>\n",
       "    </tr>\n",
       "  </tbody>\n",
       "</table>\n",
       "</div>"
      ],
      "text/plain": [
       "   sepal length (cm)  sepal width (cm)  petal length (cm)  petal width (cm)  \\\n",
       "0                5.1               3.5                1.4               0.2   \n",
       "1                4.9               3.0                1.4               0.2   \n",
       "2                4.7               3.2                1.3               0.2   \n",
       "3                4.6               3.1                1.5               0.2   \n",
       "4                5.0               3.6                1.4               0.2   \n",
       "\n",
       "   target  \n",
       "0     0.0  \n",
       "1     0.0  \n",
       "2     0.0  \n",
       "3     0.0  \n",
       "4     0.0  "
      ]
     },
     "execution_count": 94,
     "metadata": {},
     "output_type": "execute_result"
    }
   ],
   "source": [
    "data_iris.head()"
   ]
  },
  {
   "cell_type": "code",
   "execution_count": 95,
   "id": "b911d6fd",
   "metadata": {},
   "outputs": [
    {
     "name": "stderr",
     "output_type": "stream",
     "text": [
      "/home/al/.local/lib/python3.10/site-packages/sklearn/utils/validation.py:767: FutureWarning: is_sparse is deprecated and will be removed in a future version. Check `isinstance(dtype, pd.SparseDtype)` instead.\n",
      "  if not hasattr(array, \"sparse\") and array.dtypes.apply(is_sparse).any():\n",
      "/home/al/.local/lib/python3.10/site-packages/sklearn/utils/validation.py:605: FutureWarning: is_sparse is deprecated and will be removed in a future version. Check `isinstance(dtype, pd.SparseDtype)` instead.\n",
      "  if is_sparse(pd_dtype):\n",
      "/home/al/.local/lib/python3.10/site-packages/sklearn/utils/validation.py:614: FutureWarning: is_sparse is deprecated and will be removed in a future version. Check `isinstance(dtype, pd.SparseDtype)` instead.\n",
      "  if is_sparse(pd_dtype) or not is_extension_array_dtype(pd_dtype):\n"
     ]
    },
    {
     "data": {
      "text/html": [
       "<style>#sk-container-id-2 {color: black;background-color: white;}#sk-container-id-2 pre{padding: 0;}#sk-container-id-2 div.sk-toggleable {background-color: white;}#sk-container-id-2 label.sk-toggleable__label {cursor: pointer;display: block;width: 100%;margin-bottom: 0;padding: 0.3em;box-sizing: border-box;text-align: center;}#sk-container-id-2 label.sk-toggleable__label-arrow:before {content: \"▸\";float: left;margin-right: 0.25em;color: #696969;}#sk-container-id-2 label.sk-toggleable__label-arrow:hover:before {color: black;}#sk-container-id-2 div.sk-estimator:hover label.sk-toggleable__label-arrow:before {color: black;}#sk-container-id-2 div.sk-toggleable__content {max-height: 0;max-width: 0;overflow: hidden;text-align: left;background-color: #f0f8ff;}#sk-container-id-2 div.sk-toggleable__content pre {margin: 0.2em;color: black;border-radius: 0.25em;background-color: #f0f8ff;}#sk-container-id-2 input.sk-toggleable__control:checked~div.sk-toggleable__content {max-height: 200px;max-width: 100%;overflow: auto;}#sk-container-id-2 input.sk-toggleable__control:checked~label.sk-toggleable__label-arrow:before {content: \"▾\";}#sk-container-id-2 div.sk-estimator input.sk-toggleable__control:checked~label.sk-toggleable__label {background-color: #d4ebff;}#sk-container-id-2 div.sk-label input.sk-toggleable__control:checked~label.sk-toggleable__label {background-color: #d4ebff;}#sk-container-id-2 input.sk-hidden--visually {border: 0;clip: rect(1px 1px 1px 1px);clip: rect(1px, 1px, 1px, 1px);height: 1px;margin: -1px;overflow: hidden;padding: 0;position: absolute;width: 1px;}#sk-container-id-2 div.sk-estimator {font-family: monospace;background-color: #f0f8ff;border: 1px dotted black;border-radius: 0.25em;box-sizing: border-box;margin-bottom: 0.5em;}#sk-container-id-2 div.sk-estimator:hover {background-color: #d4ebff;}#sk-container-id-2 div.sk-parallel-item::after {content: \"\";width: 100%;border-bottom: 1px solid gray;flex-grow: 1;}#sk-container-id-2 div.sk-label:hover label.sk-toggleable__label {background-color: #d4ebff;}#sk-container-id-2 div.sk-serial::before {content: \"\";position: absolute;border-left: 1px solid gray;box-sizing: border-box;top: 0;bottom: 0;left: 50%;z-index: 0;}#sk-container-id-2 div.sk-serial {display: flex;flex-direction: column;align-items: center;background-color: white;padding-right: 0.2em;padding-left: 0.2em;position: relative;}#sk-container-id-2 div.sk-item {position: relative;z-index: 1;}#sk-container-id-2 div.sk-parallel {display: flex;align-items: stretch;justify-content: center;background-color: white;position: relative;}#sk-container-id-2 div.sk-item::before, #sk-container-id-2 div.sk-parallel-item::before {content: \"\";position: absolute;border-left: 1px solid gray;box-sizing: border-box;top: 0;bottom: 0;left: 50%;z-index: -1;}#sk-container-id-2 div.sk-parallel-item {display: flex;flex-direction: column;z-index: 1;position: relative;background-color: white;}#sk-container-id-2 div.sk-parallel-item:first-child::after {align-self: flex-end;width: 50%;}#sk-container-id-2 div.sk-parallel-item:last-child::after {align-self: flex-start;width: 50%;}#sk-container-id-2 div.sk-parallel-item:only-child::after {width: 0;}#sk-container-id-2 div.sk-dashed-wrapped {border: 1px dashed gray;margin: 0 0.4em 0.5em 0.4em;box-sizing: border-box;padding-bottom: 0.4em;background-color: white;}#sk-container-id-2 div.sk-label label {font-family: monospace;font-weight: bold;display: inline-block;line-height: 1.2em;}#sk-container-id-2 div.sk-label-container {text-align: center;}#sk-container-id-2 div.sk-container {/* jupyter's `normalize.less` sets `[hidden] { display: none; }` but bootstrap.min.css set `[hidden] { display: none !important; }` so we also need the `!important` here to be able to override the default hidden behavior on the sphinx rendered scikit-learn.org. See: https://github.com/scikit-learn/scikit-learn/issues/21755 */display: inline-block !important;position: relative;}#sk-container-id-2 div.sk-text-repr-fallback {display: none;}</style><div id=\"sk-container-id-2\" class=\"sk-top-container\"><div class=\"sk-text-repr-fallback\"><pre>PCA(n_components=4)</pre><b>In a Jupyter environment, please rerun this cell to show the HTML representation or trust the notebook. <br />On GitHub, the HTML representation is unable to render, please try loading this page with nbviewer.org.</b></div><div class=\"sk-container\" hidden><div class=\"sk-item\"><div class=\"sk-estimator sk-toggleable\"><input class=\"sk-toggleable__control sk-hidden--visually\" id=\"sk-estimator-id-2\" type=\"checkbox\" checked><label for=\"sk-estimator-id-2\" class=\"sk-toggleable__label sk-toggleable__label-arrow\">PCA</label><div class=\"sk-toggleable__content\"><pre>PCA(n_components=4)</pre></div></div></div></div></div>"
      ],
      "text/plain": [
       "PCA(n_components=4)"
      ]
     },
     "execution_count": 95,
     "metadata": {},
     "output_type": "execute_result"
    }
   ],
   "source": [
    "from sklearn.decomposition import PCA\n",
    "pca = PCA(n_components=4)\n",
    "pca.fit(data_iris)"
   ]
  },
  {
   "cell_type": "code",
   "execution_count": 96,
   "id": "df2d007d",
   "metadata": {},
   "outputs": [
    {
     "name": "stdout",
     "output_type": "stream",
     "text": [
      "   sepal length (cm)  sepal width (cm)  petal length (cm)  petal width (cm)  \\\n",
      "0           0.334025         -0.080346           0.800593          0.336579   \n",
      "1           0.688526          0.684749          -0.097139         -0.068946   \n",
      "2          -0.441478          0.611414          -0.146679          0.420202   \n",
      "3          -0.433128          0.303487           0.490804          0.066671   \n",
      "\n",
      "     target  \n",
      "0  0.357404  \n",
      "1 -0.207030  \n",
      "2  0.482893  \n",
      "3 -0.689175  \n"
     ]
    }
   ],
   "source": [
    "print(pd.DataFrame(pca.components_, columns=data_iris.columns))"
   ]
  },
  {
   "cell_type": "markdown",
   "id": "da1e3bda",
   "metadata": {},
   "source": [
    "## ПОИСК АССОЦИАТИВНЫХ ПРАВИЛ"
   ]
  }
 ],
 "metadata": {
  "kernelspec": {
   "display_name": "Python 3 (ipykernel)",
   "language": "python",
   "name": "python3"
  },
  "language_info": {
   "codemirror_mode": {
    "name": "ipython",
    "version": 3
   },
   "file_extension": ".py",
   "mimetype": "text/x-python",
   "name": "python",
   "nbconvert_exporter": "python",
   "pygments_lexer": "ipython3",
   "version": "3.10.12"
  }
 },
 "nbformat": 4,
 "nbformat_minor": 5
}
