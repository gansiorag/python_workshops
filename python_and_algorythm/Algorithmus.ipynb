{
 "cells": [
  {
   "cell_type": "markdown",
   "id": "72e0f938-d504-49ac-ad21-a592b490fb78",
   "metadata": {
    "tags": []
   },
   "source": [
    "# Algorithms"
   ]
  },
  {
   "cell_type": "code",
   "execution_count": 4,
   "id": "0a87374b-14ee-4591-a319-03a97009eb99",
   "metadata": {
    "tags": []
   },
   "outputs": [],
   "source": [
    "# Data for algorithm\n",
    "import random\n",
    "def list_data(size_arr) -> list:\n",
    "    rezult = []\n",
    "    for _ in range(size_arr):\n",
    "        dd = int(str(random.random()).split('.')[1][:2])\n",
    "        rezult.append(dd)\n",
    "    return rezult\n",
    "        "
   ]
  },
  {
   "cell_type": "code",
   "execution_count": 6,
   "id": "b7cc37ae-968c-4230-8089-d62bef797499",
   "metadata": {
    "tags": []
   },
   "outputs": [
    {
     "name": "stdout",
     "output_type": "stream",
     "text": [
      "[71, 4, 55, 35, 3, 72, 43, 49, 69, 76, 33, 36, 84, 13, 58, 61, 11, 28, 54, 11, 69, 90, 62, 85, 29, 20, 64, 76, 65, 55]\n"
     ]
    }
   ],
   "source": [
    "array_p = list_data(30)\n",
    "print(array_p)"
   ]
  },
  {
   "cell_type": "code",
   "execution_count": null,
   "id": "f18599f1-ac9d-4ca9-beb2-18fba65ee959",
   "metadata": {},
   "outputs": [],
   "source": []
  }
 ],
 "metadata": {
  "kernelspec": {
   "display_name": "Python 3 (ipykernel)",
   "language": "python",
   "name": "python3"
  },
  "language_info": {
   "codemirror_mode": {
    "name": "ipython",
    "version": 3
   },
   "file_extension": ".py",
   "mimetype": "text/x-python",
   "name": "python",
   "nbconvert_exporter": "python",
   "pygments_lexer": "ipython3",
   "version": "3.10.6"
  }
 },
 "nbformat": 4,
 "nbformat_minor": 5
}
