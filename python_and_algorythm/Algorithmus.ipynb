{
 "cells": [
  {
   "cell_type": "markdown",
   "id": "72e0f938-d504-49ac-ad21-a592b490fb78",
   "metadata": {
    "tags": []
   },
   "source": [
    "# Algorithms"
   ]
  },
  {
   "cell_type": "code",
   "execution_count": 1,
   "id": "0a87374b-14ee-4591-a319-03a97009eb99",
   "metadata": {
    "tags": []
   },
   "outputs": [],
   "source": [
    "# Data for algorithm\n",
    "import random\n",
    "def list_data(size_arr) -> list:\n",
    "    rezult = []\n",
    "    for _ in range(size_arr):\n",
    "        dd = int(str(random.random()).split('.')[1][:2])\n",
    "        rezult.append(dd)\n",
    "    return rezult\n",
    "        "
   ]
  },
  {
   "cell_type": "code",
   "execution_count": 2,
   "id": "17276a6a-0577-446f-982f-57c62e8e37df",
   "metadata": {
    "tags": []
   },
   "outputs": [],
   "source": [
    "import time"
   ]
  },
  {
   "cell_type": "code",
   "execution_count": 3,
   "id": "b7cc37ae-968c-4230-8089-d62bef797499",
   "metadata": {
    "tags": []
   },
   "outputs": [
    {
     "name": "stdout",
     "output_type": "stream",
     "text": [
      "[5, 58, 81, 39, 25, 35, 60, 18, 45, 21, 30, 33, 17, 1, 29, 24, 99, 74, 44, 78, 15, 76, 30, 4, 68, 83, 31, 63, 94, 6]\n"
     ]
    }
   ],
   "source": [
    "array_p = list_data(30)\n",
    "print(array_p)"
   ]
  },
  {
   "cell_type": "markdown",
   "id": "579cdee2-c971-4110-9c04-22de296b2102",
   "metadata": {},
   "source": [
    "Сортировка вставкой (insertionSort)<br>\n",
    "Сортировка слиянием <BR>\n",
    "Сортировка пузырьком<br>\n",
    "Сортировка перестановкой<br>\n",
    "\n",
    "    "
   ]
  },
  {
   "cell_type": "code",
   "execution_count": 7,
   "id": "f18599f1-ac9d-4ca9-beb2-18fba65ee959",
   "metadata": {},
   "outputs": [],
   "source": [
    "def insertionSort(alist : list)-> list:\n",
    "    for index in range(1,len(alist)):\n",
    "        currentvalue = alist[index]\n",
    "        position = index\n",
    "\n",
    "        while position>0 and alist[position-1]>currentvalue:\n",
    "            alist[position]=alist[position-1]\n",
    "            position = position-1\n",
    "        alist[position]=currentvalue\n",
    "    return alist"
   ]
  },
  {
   "cell_type": "code",
   "execution_count": 8,
   "id": "e0218927-ef74-4b04-83fe-ba9f437cd817",
   "metadata": {
    "tags": []
   },
   "outputs": [
    {
     "name": "stdout",
     "output_type": "stream",
     "text": [
      "4.076957702636719e-05\n",
      "[1, 4, 5, 6, 15, 17, 18, 21, 24, 25, 29, 30, 30, 31, 33, 35, 39, 44, 45, 58, 60, 63, 68, 74, 76, 78, 81, 83, 94, 99]\n"
     ]
    }
   ],
   "source": [
    "start = time.time()\n",
    "new_list = insertionSort(array_p)\n",
    "print(time.time() - start)\n",
    "print(new_list)"
   ]
  },
  {
   "cell_type": "code",
   "execution_count": null,
   "id": "5d36e663-ad2f-4b58-ae4c-9a255201c372",
   "metadata": {},
   "outputs": [],
   "source": []
  }
 ],
 "metadata": {
  "kernelspec": {
   "display_name": "Python 3 (ipykernel)",
   "language": "python",
   "name": "python3"
  },
  "language_info": {
   "codemirror_mode": {
    "name": "ipython",
    "version": 3
   },
   "file_extension": ".py",
   "mimetype": "text/x-python",
   "name": "python",
   "nbconvert_exporter": "python",
   "pygments_lexer": "ipython3",
   "version": "3.10.6"
  }
 },
 "nbformat": 4,
 "nbformat_minor": 5
}
