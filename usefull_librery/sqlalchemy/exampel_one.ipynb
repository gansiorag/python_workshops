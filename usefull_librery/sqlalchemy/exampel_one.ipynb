{
 "cells": [
  {
   "cell_type": "code",
   "execution_count": 2,
   "metadata": {},
   "outputs": [],
   "source": [
    "from sqlalchemy import Column, Integer, String, Boolean, Date, JSON, Numeric, Text, DateTime"
   ]
  },
  {
   "cell_type": "code",
   "execution_count": 4,
   "metadata": {},
   "outputs": [],
   "source": [
    "from sqlalchemy.orm import DeclarativeBase"
   ]
  },
  {
   "cell_type": "code",
   "execution_count": null,
   "metadata": {},
   "outputs": [],
   "source": [
    "# CREATE TABLE neuro.events (\n",
    "# \tid serial4 NOT NULL,\n",
    "# \tuser_id numeric NULL,\n",
    "# \ttype_event varchar NULL,\n",
    "# \tmessage varchar NULL,\n",
    "# \tCONSTRAINT events_pkey PRIMARY KEY (id)\n",
    "# );\n",
    "# CREATE INDEX ix_neuro_events_id ON neuro.events USING btree (id);"
   ]
  }
 ],
 "metadata": {
  "kernelspec": {
   "display_name": "Python 3",
   "language": "python",
   "name": "python3"
  },
  "language_info": {
   "codemirror_mode": {
    "name": "ipython",
    "version": 3
   },
   "file_extension": ".py",
   "mimetype": "text/x-python",
   "name": "python",
   "nbconvert_exporter": "python",
   "pygments_lexer": "ipython3",
   "version": "3.10.12"
  }
 },
 "nbformat": 4,
 "nbformat_minor": 2
}
