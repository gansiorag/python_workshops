{
 "cells": [
  {
   "cell_type": "code",
   "execution_count": 1,
   "id": "47a06e0d",
   "metadata": {},
   "outputs": [],
   "source": [
    "import mitosheet"
   ]
  },
  {
   "cell_type": "code",
   "execution_count": 2,
   "id": "75477fe8",
   "metadata": {},
   "outputs": [
    {
     "data": {
      "application/vnd.jupyter.widget-view+json": {
       "model_id": "dc8e3796871b4c7cb42d64b8d4e06cb4",
       "version_major": 2,
       "version_minor": 0
      },
      "text/plain": [
       "MitoWidget(analysis_data_json='{\"analysisName\": \"UUID-fbe6f24f-c7ea-471d-8358-2a4821f9a5c6\", \"code\": {\"imports…"
      ]
     },
     "metadata": {},
     "output_type": "display_data"
    }
   ],
   "source": [
    "mitosheet.sheet()"
   ]
  },
  {
   "cell_type": "code",
   "execution_count": 4,
   "id": "12b3ac8d",
   "metadata": {},
   "outputs": [],
   "source": [
    "from mitosheet import *; register_analysis('UUID-fbe6f24f-c7ea-471d-8358-2a4821f9a5c6')\n",
    "\n",
    "# Imported /home/al/Projects_My/stock_exchange_trading/app/data_sets/mfdexport_1min_03012022_05012022.csv\n",
    "import pandas as pd\n",
    "mfdexport_1min_03012022_05012022_csv = pd.read_csv(r'/home/al/Projects_My/stock_exchange_trading/app/data_sets/mfdexport_1min_03012022_05012022.csv', sep=';')\n",
    "\n",
    "# Changed <DATE> from int64 to int\n",
    "mfdexport_1min_03012022_05012022_csv['<DATE>'] = mfdexport_1min_03012022_05012022_csv['<DATE>']\n"
   ]
  },
  {
   "cell_type": "code",
   "execution_count": null,
   "id": "17171322",
   "metadata": {},
   "outputs": [],
   "source": []
  }
 ],
 "metadata": {
  "kernelspec": {
   "display_name": "Python 3 (ipykernel)",
   "language": "python",
   "name": "python3"
  },
  "language_info": {
   "codemirror_mode": {
    "name": "ipython",
    "version": 3
   },
   "file_extension": ".py",
   "mimetype": "text/x-python",
   "name": "python",
   "nbconvert_exporter": "python",
   "pygments_lexer": "ipython3",
   "version": "3.8.10"
  }
 },
 "nbformat": 4,
 "nbformat_minor": 5
}
