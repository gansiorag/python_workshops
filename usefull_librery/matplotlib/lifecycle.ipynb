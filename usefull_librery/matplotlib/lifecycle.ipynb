{
  "cells": [
    {
      "cell_type": "markdown",
      "metadata": {},
      "source": [
        "\n",
        ".. redirect-from:: /tutorials/introductory/lifecycle\n",
        "\n",
        "# The Lifecycle of a Plot\n",
        "\n",
        "This tutorial aims to show the beginning, middle, and end of a single\n",
        "visualization using Matplotlib. We'll begin with some raw data and\n",
        "end by saving a figure of a customized visualization. Along the way we try\n",
        "to highlight some neat features and best-practices using Matplotlib.\n",
        "\n",
        ".. currentmodule:: matplotlib\n",
        "\n",
        "<div class=\"alert alert-info\"><h4>Note</h4><p>This tutorial is based on\n",
        "    [this excellent blog post](https://pbpython.com/effective-matplotlib.html)\n",
        "    by Chris Moffitt. It was transformed into this tutorial by Chris Holdgraf.</p></div>\n",
        "\n",
        "## A note on the explicit vs. implicit interfaces\n",
        "\n",
        "Matplotlib has two interfaces. For an explanation of the trade-offs between the\n",
        "explicit and implicit interfaces see `api_interfaces`.\n",
        "\n",
        "In the explicit object-oriented (OO) interface we directly utilize instances of\n",
        ":class:`axes.Axes` to build up the visualization in an instance of\n",
        ":class:`figure.Figure`.  In the implicit interface, inspired by and modeled on\n",
        "MATLAB, we use a global state-based interface which is encapsulated in the\n",
        ":mod:`.pyplot` module to plot to the \"current Axes\".  See the `pyplot\n",
        "tutorials <pyplot_tutorial>` for a more in-depth look at the\n",
        "pyplot interface.\n",
        "\n",
        "Most of the terms are straightforward but the main thing to remember\n",
        "is that:\n",
        "\n",
        "* The `.Figure` is the final image, and may contain one or more `~.axes.Axes`.\n",
        "* The `~.axes.Axes` represents an individual plot (not to be confused with\n",
        "   `~.axis.Axis`, which refers to the x-, y-, or z-axis of a plot).\n",
        "\n",
        "We call methods that do the plotting directly from the Axes, which gives\n",
        "us much more flexibility and power in customizing our plot.\n",
        "\n",
        "<div class=\"alert alert-info\"><h4>Note</h4><p>In general, use the explicit interface over the implicit pyplot interface\n",
        "   for plotting.</p></div>\n",
        "\n",
        "## Our data\n",
        "\n",
        "We'll use the data from the post from which this tutorial was derived.\n",
        "It contains sales information for a number of companies.\n"
      ]
    },
    {
      "cell_type": "code",
      "execution_count": null,
      "metadata": {
        "collapsed": false
      },
      "outputs": [],
      "source": [
        "import matplotlib.pyplot as plt\n",
        "import numpy as np\n",
        "\n",
        "data = {'Barton LLC': 109438.50,\n",
        "        'Frami, Hills and Schmidt': 103569.59,\n",
        "        'Fritsch, Russel and Anderson': 112214.71,\n",
        "        'Jerde-Hilpert': 112591.43,\n",
        "        'Keeling LLC': 100934.30,\n",
        "        'Koepp Ltd': 103660.54,\n",
        "        'Kulas Inc': 137351.96,\n",
        "        'Trantow-Barrows': 123381.38,\n",
        "        'White-Trantow': 135841.99,\n",
        "        'Will LLC': 104437.60}\n",
        "group_data = list(data.values())\n",
        "group_names = list(data.keys())\n",
        "group_mean = np.mean(group_data)"
      ]
    },
    {
      "cell_type": "markdown",
      "metadata": {},
      "source": [
        "## Getting started\n",
        "\n",
        "This data is naturally visualized as a barplot, with one bar per\n",
        "group. To do this with the object-oriented approach, we first generate\n",
        "an instance of :class:`figure.Figure` and\n",
        ":class:`axes.Axes`. The Figure is like a canvas, and the Axes\n",
        "is a part of that canvas on which we will make a particular visualization.\n",
        "\n",
        "<div class=\"alert alert-info\"><h4>Note</h4><p>Figures can have multiple axes on them. For information on how to do this,\n",
        "   see the `Tight Layout tutorial\n",
        "   <tight_layout_guide>`.</p></div>\n",
        "\n"
      ]
    },
    {
      "cell_type": "code",
      "execution_count": null,
      "metadata": {
        "collapsed": false
      },
      "outputs": [],
      "source": [
        "fig, ax = plt.subplots()"
      ]
    },
    {
      "cell_type": "markdown",
      "metadata": {},
      "source": [
        "Now that we have an Axes instance, we can plot on top of it.\n",
        "\n"
      ]
    },
    {
      "cell_type": "code",
      "execution_count": null,
      "metadata": {
        "collapsed": false
      },
      "outputs": [],
      "source": [
        "fig, ax = plt.subplots()\n",
        "ax.barh(group_names, group_data)"
      ]
    },
    {
      "cell_type": "markdown",
      "metadata": {},
      "source": [
        "## Controlling the style\n",
        "\n",
        "There are many styles available in Matplotlib in order to let you tailor\n",
        "your visualization to your needs. To see a list of styles, we can use\n",
        ":mod:`.style`.\n",
        "\n"
      ]
    },
    {
      "cell_type": "code",
      "execution_count": null,
      "metadata": {
        "collapsed": false
      },
      "outputs": [],
      "source": [
        "print(plt.style.available)"
      ]
    },
    {
      "cell_type": "markdown",
      "metadata": {},
      "source": [
        "You can activate a style with the following:\n",
        "\n"
      ]
    },
    {
      "cell_type": "code",
      "execution_count": null,
      "metadata": {
        "collapsed": false
      },
      "outputs": [],
      "source": [
        "plt.style.use('fivethirtyeight')"
      ]
    },
    {
      "cell_type": "markdown",
      "metadata": {},
      "source": [
        "Now let's remake the above plot to see how it looks:\n",
        "\n"
      ]
    },
    {
      "cell_type": "code",
      "execution_count": null,
      "metadata": {
        "collapsed": false
      },
      "outputs": [],
      "source": [
        "fig, ax = plt.subplots()\n",
        "ax.barh(group_names, group_data)"
      ]
    },
    {
      "cell_type": "markdown",
      "metadata": {},
      "source": [
        "The style controls many things, such as color, linewidths, backgrounds,\n",
        "etc.\n",
        "\n",
        "## Customizing the plot\n",
        "\n",
        "Now we've got a plot with the general look that we want, so let's fine-tune\n",
        "it so that it's ready for print. First let's rotate the labels on the x-axis\n",
        "so that they show up more clearly. We can gain access to these labels\n",
        "with the :meth:`axes.Axes.get_xticklabels` method:\n",
        "\n"
      ]
    },
    {
      "cell_type": "code",
      "execution_count": null,
      "metadata": {
        "collapsed": false
      },
      "outputs": [],
      "source": [
        "fig, ax = plt.subplots()\n",
        "ax.barh(group_names, group_data)\n",
        "labels = ax.get_xticklabels()"
      ]
    },
    {
      "cell_type": "markdown",
      "metadata": {},
      "source": [
        "If we'd like to set the property of many items at once, it's useful to use\n",
        "the :func:`pyplot.setp` function. This will take a list (or many lists) of\n",
        "Matplotlib objects, and attempt to set some style element of each one.\n",
        "\n"
      ]
    },
    {
      "cell_type": "code",
      "execution_count": null,
      "metadata": {
        "collapsed": false
      },
      "outputs": [],
      "source": [
        "fig, ax = plt.subplots()\n",
        "ax.barh(group_names, group_data)\n",
        "labels = ax.get_xticklabels()\n",
        "plt.setp(labels, rotation=45, horizontalalignment='right')"
      ]
    },
    {
      "cell_type": "markdown",
      "metadata": {},
      "source": [
        "It looks like this cut off some of the labels on the bottom. We can\n",
        "tell Matplotlib to automatically make room for elements in the figures\n",
        "that we create. To do this we set the ``autolayout`` value of our\n",
        "rcParams. For more information on controlling the style, layout, and\n",
        "other features of plots with rcParams, see\n",
        "`customizing`.\n",
        "\n"
      ]
    },
    {
      "cell_type": "code",
      "execution_count": null,
      "metadata": {
        "collapsed": false
      },
      "outputs": [],
      "source": [
        "plt.rcParams.update({'figure.autolayout': True})\n",
        "\n",
        "fig, ax = plt.subplots()\n",
        "ax.barh(group_names, group_data)\n",
        "labels = ax.get_xticklabels()\n",
        "plt.setp(labels, rotation=45, horizontalalignment='right')"
      ]
    },
    {
      "cell_type": "markdown",
      "metadata": {},
      "source": [
        "Next, we add labels to the plot. To do this with the OO interface,\n",
        "we can use the :meth:`.Artist.set` method to set properties of this\n",
        "Axes object.\n",
        "\n"
      ]
    },
    {
      "cell_type": "code",
      "execution_count": null,
      "metadata": {
        "collapsed": false
      },
      "outputs": [],
      "source": [
        "fig, ax = plt.subplots()\n",
        "ax.barh(group_names, group_data)\n",
        "labels = ax.get_xticklabels()\n",
        "plt.setp(labels, rotation=45, horizontalalignment='right')\n",
        "ax.set(xlim=[-10000, 140000], xlabel='Total Revenue', ylabel='Company',\n",
        "       title='Company Revenue')"
      ]
    },
    {
      "cell_type": "markdown",
      "metadata": {},
      "source": [
        "We can also adjust the size of this plot using the :func:`pyplot.subplots`\n",
        "function. We can do this with the *figsize* keyword argument.\n",
        "\n",
        "<div class=\"alert alert-info\"><h4>Note</h4><p>While indexing in NumPy follows the form (row, column), the *figsize*\n",
        "   keyword argument follows the form (width, height). This follows\n",
        "   conventions in visualization, which unfortunately are different from those\n",
        "   of linear algebra.</p></div>\n",
        "\n"
      ]
    },
    {
      "cell_type": "code",
      "execution_count": null,
      "metadata": {
        "collapsed": false
      },
      "outputs": [],
      "source": [
        "fig, ax = plt.subplots(figsize=(8, 4))\n",
        "ax.barh(group_names, group_data)\n",
        "labels = ax.get_xticklabels()\n",
        "plt.setp(labels, rotation=45, horizontalalignment='right')\n",
        "ax.set(xlim=[-10000, 140000], xlabel='Total Revenue', ylabel='Company',\n",
        "       title='Company Revenue')"
      ]
    },
    {
      "cell_type": "markdown",
      "metadata": {},
      "source": [
        "For labels, we can specify custom formatting guidelines in the form of\n",
        "functions. Below we define a function that takes an integer as input, and\n",
        "returns a string as an output. When used with `.Axis.set_major_formatter` or\n",
        "`.Axis.set_minor_formatter`, they will automatically create and use a\n",
        ":class:`ticker.FuncFormatter` class.\n",
        "\n",
        "For this function, the ``x`` argument is the original tick label and ``pos``\n",
        "is the tick position.  We will only use ``x`` here but both arguments are\n",
        "needed.\n",
        "\n"
      ]
    },
    {
      "cell_type": "code",
      "execution_count": null,
      "metadata": {
        "collapsed": false
      },
      "outputs": [],
      "source": [
        "def currency(x, pos):\n",
        "    \"\"\"The two arguments are the value and tick position\"\"\"\n",
        "    if x >= 1e6:\n",
        "        s = f'${x*1e-6:1.1f}M'\n",
        "    else:\n",
        "        s = f'${x*1e-3:1.0f}K'\n",
        "    return s"
      ]
    },
    {
      "cell_type": "markdown",
      "metadata": {},
      "source": [
        "We can then apply this function to the labels on our plot. To do this,\n",
        "we use the ``xaxis`` attribute of our axes. This lets you perform\n",
        "actions on a specific axis on our plot.\n",
        "\n"
      ]
    },
    {
      "cell_type": "code",
      "execution_count": null,
      "metadata": {
        "collapsed": false
      },
      "outputs": [],
      "source": [
        "fig, ax = plt.subplots(figsize=(6, 8))\n",
        "ax.barh(group_names, group_data)\n",
        "labels = ax.get_xticklabels()\n",
        "plt.setp(labels, rotation=45, horizontalalignment='right')\n",
        "\n",
        "ax.set(xlim=[-10000, 140000], xlabel='Total Revenue', ylabel='Company',\n",
        "       title='Company Revenue')\n",
        "ax.xaxis.set_major_formatter(currency)"
      ]
    },
    {
      "cell_type": "markdown",
      "metadata": {},
      "source": [
        "## Combining multiple visualizations\n",
        "\n",
        "It is possible to draw multiple plot elements on the same instance of\n",
        ":class:`axes.Axes`. To do this we simply need to call another one of\n",
        "the plot methods on that axes object.\n",
        "\n"
      ]
    },
    {
      "cell_type": "code",
      "execution_count": 1,
      "metadata": {
        "collapsed": false
      },
      "outputs": [
        {
          "ename": "NameError",
          "evalue": "name 'plt' is not defined",
          "output_type": "error",
          "traceback": [
            "\u001b[0;31m---------------------------------------------------------------------------\u001b[0m",
            "\u001b[0;31mNameError\u001b[0m                                 Traceback (most recent call last)",
            "Cell \u001b[0;32mIn[1], line 1\u001b[0m\n\u001b[0;32m----> 1\u001b[0m fig, ax \u001b[38;5;241m=\u001b[39m \u001b[43mplt\u001b[49m\u001b[38;5;241m.\u001b[39msubplots(figsize\u001b[38;5;241m=\u001b[39m(\u001b[38;5;241m8\u001b[39m, \u001b[38;5;241m8\u001b[39m))\n\u001b[1;32m      2\u001b[0m ax\u001b[38;5;241m.\u001b[39mbarh(group_names, group_data)\n\u001b[1;32m      3\u001b[0m labels \u001b[38;5;241m=\u001b[39m ax\u001b[38;5;241m.\u001b[39mget_xticklabels()\n",
            "\u001b[0;31mNameError\u001b[0m: name 'plt' is not defined"
          ]
        }
      ],
      "source": [
        "fig, ax = plt.subplots(figsize=(8, 8))\n",
        "ax.barh(group_names, group_data)\n",
        "labels = ax.get_xticklabels()\n",
        "plt.setp(labels, rotation=45, horizontalalignment='right')\n",
        "\n",
        "# Add a vertical line, here we set the style in the function call\n",
        "ax.axvline(group_mean, ls='--', color='r')\n",
        "\n",
        "# Annotate new companies\n",
        "for group in [3, 5, 8]:\n",
        "    ax.text(145000, group, \"New Company\", fontsize=10,\n",
        "            verticalalignment=\"center\")\n",
        "\n",
        "# Now we move our title up since it's getting a little cramped\n",
        "ax.title.set(y=1.05)\n",
        "\n",
        "ax.set(xlim=[-10000, 140000], xlabel='Total Revenue', ylabel='Company',\n",
        "       title='Company Revenue')\n",
        "ax.xaxis.set_major_formatter(currency)\n",
        "ax.set_xticks([0, 25e3, 50e3, 75e3, 100e3, 125e3])\n",
        "fig.subplots_adjust(right=.1)\n",
        "\n",
        "plt.show()"
      ]
    },
    {
      "cell_type": "markdown",
      "metadata": {},
      "source": [
        "## Saving our plot\n",
        "\n",
        "Now that we're happy with the outcome of our plot, we want to save it to\n",
        "disk. There are many file formats we can save to in Matplotlib. To see\n",
        "a list of available options, use:\n",
        "\n"
      ]
    },
    {
      "cell_type": "code",
      "execution_count": null,
      "metadata": {
        "collapsed": false
      },
      "outputs": [],
      "source": [
        "print(fig.canvas.get_supported_filetypes())"
      ]
    },
    {
      "cell_type": "markdown",
      "metadata": {},
      "source": [
        "We can then use the :meth:`figure.Figure.savefig` in order to save the figure\n",
        "to disk. Note that there are several useful flags we show below:\n",
        "\n",
        "* ``transparent=True`` makes the background of the saved figure transparent\n",
        "  if the format supports it.\n",
        "* ``dpi=80`` controls the resolution (dots per square inch) of the output.\n",
        "* ``bbox_inches=\"tight\"`` fits the bounds of the figure to our plot.\n",
        "\n"
      ]
    },
    {
      "cell_type": "code",
      "execution_count": null,
      "metadata": {
        "collapsed": false
      },
      "outputs": [],
      "source": [
        "# Uncomment this line to save the figure.\n",
        "# fig.savefig('sales.png', transparent=False, dpi=80, bbox_inches=\"tight\")"
      ]
    }
  ],
  "metadata": {
    "kernelspec": {
      "display_name": "Python 3",
      "language": "python",
      "name": "python3"
    },
    "language_info": {
      "codemirror_mode": {
        "name": "ipython",
        "version": 3
      },
      "file_extension": ".py",
      "mimetype": "text/x-python",
      "name": "python",
      "nbconvert_exporter": "python",
      "pygments_lexer": "ipython3",
      "version": "3.10.12"
    }
  },
  "nbformat": 4,
  "nbformat_minor": 0
}
