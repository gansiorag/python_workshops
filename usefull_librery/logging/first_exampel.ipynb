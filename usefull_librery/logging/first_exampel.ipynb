{
 "cells": [
  {
   "cell_type": "markdown",
   "metadata": {},
   "source": [
    "#### logging"
   ]
  },
  {
   "cell_type": "code",
   "execution_count": 1,
   "metadata": {},
   "outputs": [],
   "source": [
    "import logging"
   ]
  },
  {
   "cell_type": "markdown",
   "metadata": {},
   "source": [
    "Дадим краткие характеристики уровней логирования:\n",
    "\n",
    "Debug (10): самый низкий уровень логирования, предназначенный для отладочных сообщений, для вывода диагностической информации о приложении.\n",
    "\n",
    "Info (20): этот уровень предназначен для вывода данных о фрагментах кода, работающих так, как ожидается.\n",
    "\n",
    "Warning (30): этот уровень логирования предусматривает вывод предупреждений, он применяется для записи сведений о событиях, на которые программист обычно обращает внимание. Такие события вполне могут привести к проблемам при работе приложения. Если явно не задать уровень логирования — по умолчанию используется именно warning.\n",
    "\n",
    "Error (40): этот уровень логирования предусматривает вывод сведений об ошибках — о том, что часть приложения работает не так как ожидается, о том, что программа не смогла правильно выполниться.\n",
    "\n",
    "Critical (50): этот уровень используется для вывода сведений об очень серьёзных ошибках, наличие которых угрожает нормальному функционированию всего приложения. Если не исправить такую ошибку — это может привести к тому, что приложение прекратит работу."
   ]
  },
  {
   "cell_type": "code",
   "execution_count": 4,
   "metadata": {},
   "outputs": [],
   "source": [
    "logger = logging.getLogger(__name__)"
   ]
  },
  {
   "cell_type": "code",
   "execution_count": 3,
   "metadata": {},
   "outputs": [],
   "source": [
    "logger.debug(\"A DEBUG Message\")\n",
    "logger.info(\"An INFO\")"
   ]
  },
  {
   "cell_type": "markdown",
   "metadata": {},
   "source": [
    "Это так из-за того, что в консоль выводятся лишь сообщения с уровнями от warning и выше. Но это можно изменить, настроив логгер и указав ему, что в консоль надо выводить сообщения, начиная с некоего, заданного вами, уровня логирования."
   ]
  },
  {
   "cell_type": "code",
   "execution_count": 4,
   "metadata": {},
   "outputs": [],
   "source": [
    "logging.basicConfig(level=logging.DEBUG)"
   ]
  },
  {
   "cell_type": "code",
   "execution_count": 5,
   "metadata": {},
   "outputs": [
    {
     "name": "stderr",
     "output_type": "stream",
     "text": [
      "DEBUG:__main__:A DEBUG Message\n",
      "INFO:__main__:An INFO\n"
     ]
    }
   ],
   "source": [
    "logger.debug(\"A DEBUG Message\")\n",
    "logger.info(\"An INFO\")"
   ]
  },
  {
   "cell_type": "code",
   "execution_count": 6,
   "metadata": {},
   "outputs": [
    {
     "name": "stderr",
     "output_type": "stream",
     "text": [
      "WARNING:__main__:A WARNING\n",
      "ERROR:__main__:An ERROR\n",
      "CRITICAL:__main__:A message of CRITICAL severity\n"
     ]
    }
   ],
   "source": [
    "logger.warning(\"A WARNING\")\n",
    "logger.error(\"An ERROR\")\n",
    "logger.critical(\"A message of CRITICAL severity\")"
   ]
  },
  {
   "cell_type": "code",
   "execution_count": 7,
   "metadata": {},
   "outputs": [],
   "source": [
    "logging.basicConfig(level=logger.INFO, filename=\"py_log.log\")"
   ]
  },
  {
   "cell_type": "code",
   "execution_count": 8,
   "metadata": {},
   "outputs": [
    {
     "name": "stderr",
     "output_type": "stream",
     "text": [
      "DEBUG:__main__:A DEBUG Message\n",
      "INFO:__main__:An INFO\n",
      "WARNING:__main__:A WARNING\n",
      "ERROR:__main__:An ERROR\n",
      "CRITICAL:__main__:A message of CRITICAL severity\n"
     ]
    }
   ],
   "source": [
    "logger.debug(\"A DEBUG Message\")\n",
    "logger.info(\"An INFO\")\n",
    "logger.warning(\"A WARNING\")\n",
    "logger.error(\"An ERROR\")\n",
    "logger.critical(\"A message of CRITICAL severity\")"
   ]
  },
  {
   "cell_type": "markdown",
   "metadata": {},
   "source": [
    "Помимо базовой информации, выводимой в лог, может понадобится снабдить записи отметками времени, указывающими на момент вывода той или иной записи. Это упрощает анализ логов. Сделать это можно, воспользовавшись параметром конструктора format:"
   ]
  },
  {
   "cell_type": "code",
   "execution_count": 5,
   "metadata": {},
   "outputs": [],
   "source": [
    "logging.basicConfig(level=logging.INFO,\n",
    "                    format=\"%(asctime)s %(levelname)s %(message)s\")"
   ]
  },
  {
   "cell_type": "code",
   "execution_count": 6,
   "metadata": {},
   "outputs": [
    {
     "name": "stderr",
     "output_type": "stream",
     "text": [
      "2024-08-02 12:41:44,678 INFO An INFO\n",
      "2024-08-02 12:41:44,679 WARNING A WARNING\n",
      "2024-08-02 12:41:44,679 ERROR An ERROR\n",
      "2024-08-02 12:41:44,680 CRITICAL A message of CRITICAL severity\n"
     ]
    }
   ],
   "source": [
    "logger.debug(\"A DEBUG Message\")\n",
    "logger.info(\"An INFO\")\n",
    "logger.warning(\"A WARNING\")\n",
    "logging.error(\"An ERROR\")\n",
    "logger.critical(\"A message of CRITICAL severity\")"
   ]
  }
 ],
 "metadata": {
  "kernelspec": {
   "display_name": "Python 3",
   "language": "python",
   "name": "python3"
  },
  "language_info": {
   "codemirror_mode": {
    "name": "ipython",
    "version": 3
   },
   "file_extension": ".py",
   "mimetype": "text/x-python",
   "name": "python",
   "nbconvert_exporter": "python",
   "pygments_lexer": "ipython3",
   "version": "3.10.12"
  }
 },
 "nbformat": 4,
 "nbformat_minor": 2
}
