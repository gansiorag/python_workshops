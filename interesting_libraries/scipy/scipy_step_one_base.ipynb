{
 "cells": [
  {
   "cell_type": "markdown",
   "metadata": {},
   "source": [
    "http://www.scipy.org/scipylib/download.html"
   ]
  },
  {
   "cell_type": "code",
   "execution_count": 4,
   "metadata": {},
   "outputs": [],
   "source": [
    "#!pip install scipy"
   ]
  },
  {
   "cell_type": "code",
   "execution_count": 6,
   "metadata": {},
   "outputs": [],
   "source": [
    "import scipy as sc\n",
    "import numpy as np"
   ]
  },
  {
   "cell_type": "code",
   "execution_count": 8,
   "metadata": {},
   "outputs": [],
   "source": [
    "from scipy.cluster.vq import whiten\n",
    "from scipy.cluster.vq import vq"
   ]
  },
  {
   "cell_type": "code",
   "execution_count": null,
   "metadata": {},
   "outputs": [],
   "source": [
    "obs = [[  1.,   1.,   1.],  #o0\n",
    "       [  2.,   2.,   2.],  #o1\n",
    "       [  3.,   3.,   3.],  #o2\n",
    "       [  4.,   4.,   4.]] "
   ]
  },
  {
   "cell_type": "code",
   "execution_count": 7,
   "metadata": {},
   "outputs": [],
   "source": [
    "features  = np.array([[1.9, 2.3, 1.7],\n",
    "                      [1.5, 2.5, 2.2],\n",
    "                      [0.8, 0.6, 1.7,]])"
   ]
  },
  {
   "cell_type": "code",
   "execution_count": 10,
   "metadata": {},
   "outputs": [
    {
     "data": {
      "text/plain": [
       "array([[4.17944278, 2.69811351, 7.21248917],\n",
       "       [3.29956009, 2.93273208, 9.33380951],\n",
       "       [1.75976538, 0.7038557 , 7.21248917]])"
      ]
     },
     "execution_count": 10,
     "metadata": {},
     "output_type": "execute_result"
    }
   ],
   "source": [
    "# Нормализуйте группу наблюдений на основе каждого признака.\n",
    "\n",
    "# Перед запуском k-means полезно масштабировать каждое измерение\n",
    "# признака наблюдения, установленное на его стандартное отклонение \n",
    "# (т.е. “отбелить” его - как в “белом шуме”, где каждая частота\n",
    "# имеет равную мощность). Каждый признак делится на его стандартное\n",
    "# отклонение по всем наблюдениям, чтобы получить единичную дисперсию\n",
    "\n",
    "whiten(features)"
   ]
  },
  {
   "cell_type": "code",
   "execution_count": 11,
   "metadata": {},
   "outputs": [],
   "source": [
    "# Присваивает наблюдениям коды из кодовой книги.\n",
    "\n",
    "# Присваивает код из кодовой книги каждому наблюдению.\n",
    "# Каждый вектор наблюдения в массиве obs ‘M’ by ‘N’ сравнивается с\n",
    "# центроидами в кодовой книге и присваивается код ближайшего центроида.\n",
    "\n",
    "# Объекты в obs должны иметь единичную дисперсию, чего можно достичь,\n",
    "# передав их через функцию whiten. Кодовая книга может быть создана с\n",
    "# помощью алгоритма k-средних или другого алгоритма кодирования.\n",
    "\n",
    "code_book = np.array([[1., 1., 1.],\n",
    "                      [2., 2., 2.]])"
   ]
  },
  {
   "cell_type": "code",
   "execution_count": 12,
   "metadata": {},
   "outputs": [
    {
     "data": {
      "text/plain": [
       "(array([1, 1, 0], dtype=int32), array([0.43588989, 0.73484692, 0.83066239]))"
      ]
     },
     "execution_count": 12,
     "metadata": {},
     "output_type": "execute_result"
    }
   ],
   "source": [
    "vq(features, code_book)"
   ]
  }
 ],
 "metadata": {
  "kernelspec": {
   "display_name": "Python 3",
   "language": "python",
   "name": "python3"
  },
  "language_info": {
   "codemirror_mode": {
    "name": "ipython",
    "version": 3
   },
   "file_extension": ".py",
   "mimetype": "text/x-python",
   "name": "python",
   "nbconvert_exporter": "python",
   "pygments_lexer": "ipython3",
   "version": "3.10.12"
  }
 },
 "nbformat": 4,
 "nbformat_minor": 2
}
