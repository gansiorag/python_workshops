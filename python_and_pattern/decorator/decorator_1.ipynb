{
 "cells": [
  {
   "cell_type": "code",
   "execution_count": null,
   "id": "e944d387",
   "metadata": {},
   "outputs": [],
   "source": [
    "# useful  links \n",
    "# https://www.youtube.com/watch?v=VnuDMPQSMjs\n",
    "#\n",
    "#\n"
   ]
  },
  {
   "cell_type": "code",
   "execution_count": 2,
   "id": "66525eec",
   "metadata": {},
   "outputs": [],
   "source": [
    "from typing import ParamSpec, TypeVar, Callable\n",
    "from functools import wraps"
   ]
  },
  {
   "cell_type": "code",
   "execution_count": null,
   "id": "705516a5",
   "metadata": {},
   "outputs": [],
   "source": [
    "# show work type\n",
    "type lly = dict[\"ff1\": list,\n",
    "                'ff2':'']"
   ]
  },
  {
   "cell_type": "code",
   "execution_count": 13,
   "id": "df96008a",
   "metadata": {},
   "outputs": [],
   "source": [
    "dfg: lly = {}"
   ]
  },
  {
   "cell_type": "code",
   "execution_count": 9,
   "id": "022a58a6",
   "metadata": {},
   "outputs": [],
   "source": [
    "def scale(scalar: float, dd: lly) -> lly:\n",
    "    dd['ff1'] = [1, 2, 3]\n",
    "    dd['ff2'] = 'fdfgdg'\n",
    "    return dd"
   ]
  },
  {
   "cell_type": "code",
   "execution_count": 14,
   "id": "073d19a9",
   "metadata": {},
   "outputs": [],
   "source": [
    "\n",
    "# new var\n",
    "# dfg = {\"ff1\": [2,2,2],\n",
    "#                     'ff2':''}\n",
    "new_vector = scale(2.0, dfg)"
   ]
  },
  {
   "cell_type": "code",
   "execution_count": 15,
   "id": "edeac735",
   "metadata": {},
   "outputs": [
    {
     "name": "stdout",
     "output_type": "stream",
     "text": [
      "{'ff1': [1, 2, 3], 'ff2': 'fdfgdg'}\n"
     ]
    }
   ],
   "source": [
    "print(new_vector)"
   ]
  },
  {
   "cell_type": "code",
   "execution_count": 16,
   "id": "bc43a187",
   "metadata": {},
   "outputs": [],
   "source": [
    "from collections.abc import Sequence\n",
    "\n",
    "def first[T](l: Sequence[T]) -> T:  # Function is generic over the TypeVar \"T\"\n",
    "    return l[0]"
   ]
  },
  {
   "cell_type": "code",
   "execution_count": 17,
   "id": "fbf53e97",
   "metadata": {},
   "outputs": [],
   "source": [
    "from collections.abc import Mapping, Sequence\n",
    "\n",
    "class Employee: ...\n",
    "\n",
    "# Sequence[Employee] indicates that all elements in the sequence\n",
    "# must be instances of \"Employee\".\n",
    "# Mapping[str, str] indicates that all keys and all values in the mapping\n",
    "# must be strings.\n",
    "def notify_by_email(employees: Sequence[Employee],\n",
    "                    overrides: Mapping[str, str]) -> None: ..."
   ]
  }
 ],
 "metadata": {
  "kernelspec": {
   "display_name": ".venv",
   "language": "python",
   "name": "python3"
  },
  "language_info": {
   "codemirror_mode": {
    "name": "ipython",
    "version": 3
   },
   "file_extension": ".py",
   "mimetype": "text/x-python",
   "name": "python",
   "nbconvert_exporter": "python",
   "pygments_lexer": "ipython3",
   "version": "3.12.3"
  }
 },
 "nbformat": 4,
 "nbformat_minor": 5
}
