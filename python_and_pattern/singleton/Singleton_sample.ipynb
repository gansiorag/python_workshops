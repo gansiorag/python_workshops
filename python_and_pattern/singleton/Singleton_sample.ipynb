{
 "cells": [
  {
   "cell_type": "markdown",
   "id": "a57b0097",
   "metadata": {},
   "source": [
    "# Вариант 1\n"
   ]
  },
  {
   "cell_type": "code",
   "execution_count": 4,
   "id": "f7c1aeb5",
   "metadata": {},
   "outputs": [],
   "source": [
    "class Singleton(object):\n",
    "    def __new__(cls):\n",
    "        if not hasattr(cls, 'instance'):\n",
    "            cls.instance = super(Singleton, cls).__new__(cls)\n",
    "        return cls.instance"
   ]
  },
  {
   "cell_type": "code",
   "execution_count": 5,
   "id": "0e93914e",
   "metadata": {},
   "outputs": [
    {
     "name": "stdout",
     "output_type": "stream",
     "text": [
      "Object created <__main__.Singleton object at 0x7f7028380bb0>\n",
      "Object created <__main__.Singleton object at 0x7f7028380bb0>\n"
     ]
    }
   ],
   "source": [
    "s = Singleton()\n",
    "print(\"Object created\", s)\n",
    "s1 = Singleton()\n",
    "print(\"Object created\", s1)"
   ]
  },
  {
   "cell_type": "markdown",
   "id": "597a079f",
   "metadata": {},
   "source": [
    "# Вариант 2"
   ]
  },
  {
   "cell_type": "code",
   "execution_count": 6,
   "id": "07813ea2",
   "metadata": {},
   "outputs": [],
   "source": [
    "class Singleton:\n",
    "    __instance = None\n",
    "    def __init__(self):\n",
    "        if not Singleton.__instance:\n",
    "            print(\" __init__ method called..\")\n",
    "        else:\n",
    "            print(\"Instance already created:\", self.getInstance())\n",
    "            \n",
    "    @classmethod\n",
    "    def getInstance(cls):\n",
    "        if not cls.__instance:\n",
    "            cls.__instance = Singleton()\n",
    "        return cls.__instance"
   ]
  },
  {
   "cell_type": "code",
   "execution_count": 8,
   "id": "fba51c43",
   "metadata": {},
   "outputs": [
    {
     "name": "stdout",
     "output_type": "stream",
     "text": [
      "Instance already created: <__main__.Singleton object at 0x7f7028380a90>\n",
      "Object created <__main__.Singleton object at 0x7f7028380a90>\n",
      "Instance already created: <__main__.Singleton object at 0x7f7028380a90>\n"
     ]
    }
   ],
   "source": [
    "s = Singleton() ## class initialized, but object not created\n",
    "print(\"Object created\", Singleton.getInstance()) # Object gets created\n",
    "s1 = Singleton() ## instance already created"
   ]
  },
  {
   "cell_type": "markdown",
   "id": "407d38df",
   "metadata": {},
   "source": [
    "# Вариант 3"
   ]
  },
  {
   "cell_type": "code",
   "execution_count": 9,
   "id": "87f659bf",
   "metadata": {},
   "outputs": [],
   "source": [
    "import sqlite3\n",
    "class MetaSingleton(type):\n",
    "    _instances = {}\n",
    "    def __call__(cls, *args, **kwargs):\n",
    "        if cls not in cls._instances:\n",
    "            cls._instances[cls] = super(MetaSingleton, cls).__call__(*args, **kwargs)\n",
    "        return cls._instances[cls]\n",
    "    \n",
    "class Database(metaclass=MetaSingleton):\n",
    "    connection = None\n",
    "    def connect(self):\n",
    "        if self.connection is None:\n",
    "            self.connection = sqlite3.connect(\"db.sqlite3\")\n",
    "            self.cursorobj = self.connection.cursor()\n",
    "        return self.cursorobj\n",
    "    \n"
   ]
  },
  {
   "cell_type": "code",
   "execution_count": 10,
   "id": "6a5780f2",
   "metadata": {},
   "outputs": [
    {
     "name": "stdout",
     "output_type": "stream",
     "text": [
      "Database Objects DB1 <sqlite3.Cursor object at 0x7f70282b00a0>\n",
      "Database Objects DB2 <sqlite3.Cursor object at 0x7f70282b00a0>\n"
     ]
    }
   ],
   "source": [
    "db1 = Database().connect()\n",
    "db2 = Database().connect()\n",
    "print (\"Database Objects DB1\", db1)\n",
    "print (\"Database Objects DB2\", db2)"
   ]
  },
  {
   "cell_type": "markdown",
   "id": "ccff6323",
   "metadata": {},
   "source": [
    "# Вариант 4"
   ]
  },
  {
   "cell_type": "code",
   "execution_count": null,
   "id": "77a38eca",
   "metadata": {},
   "outputs": [],
   "source": []
  }
 ],
 "metadata": {
  "kernelspec": {
   "display_name": "Python 3",
   "language": "python",
   "name": "python3"
  },
  "language_info": {
   "codemirror_mode": {
    "name": "ipython",
    "version": 3
   },
   "file_extension": ".py",
   "mimetype": "text/x-python",
   "name": "python",
   "nbconvert_exporter": "python",
   "pygments_lexer": "ipython3",
   "version": "3.8.5"
  }
 },
 "nbformat": 4,
 "nbformat_minor": 5
}
