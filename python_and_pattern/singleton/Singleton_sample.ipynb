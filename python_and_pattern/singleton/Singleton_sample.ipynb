{
 "cells": [
  {
   "cell_type": "markdown",
   "id": "a57b0097",
   "metadata": {},
   "source": [
    "# Вариант 1\n",
    "* используем функцию hasattr - Проверяет наличие атрибута объекта в котором нужно проверить  \n",
    "существование атрибута. В данном случае 'instance'\n"
   ]
  },
  {
   "cell_type": "code",
   "execution_count": 1,
   "id": "f7c1aeb5",
   "metadata": {},
   "outputs": [],
   "source": [
    "class Singleton(object):\n",
    "    def __new__(cls):\n",
    "        if not hasattr(cls, 'instance'):\n",
    "            cls.instance = super(Singleton, cls).__new__(cls)\n",
    "        return cls.instance"
   ]
  },
  {
   "cell_type": "code",
   "execution_count": 2,
   "id": "0e93914e",
   "metadata": {},
   "outputs": [
    {
     "name": "stdout",
     "output_type": "stream",
     "text": [
      "Object created <__main__.Singleton object at 0x7fca488f0970>\n",
      "Object created <__main__.Singleton object at 0x7fca488f0970>\n"
     ]
    }
   ],
   "source": [
    "s = Singleton()\n",
    "print(\"Object created\", s)\n",
    "s1 = Singleton()\n",
    "print(\"Object created\", s1)"
   ]
  },
  {
   "cell_type": "markdown",
   "id": "597a079f",
   "metadata": {},
   "source": [
    "# Вариант 2  \n",
    "* В этом коде мы управляем созданием объекта. Т.е. мы можем его инициализировать,<br>\n",
    "но создадим тогда когда это нужно"
   ]
  },
  {
   "cell_type": "code",
   "execution_count": 1,
   "id": "07813ea2",
   "metadata": {},
   "outputs": [],
   "source": [
    "class Singleton:\n",
    "    __instance = None\n",
    "    def __init__(self):\n",
    "        if not Singleton.__instance:\n",
    "            print(\" __init__ method called..\")\n",
    "        else:\n",
    "            print(\"Instance already created:\", self.getInstance())\n",
    "            \n",
    "    @classmethod\n",
    "    def getInstance(cls):\n",
    "        if not cls.__instance:\n",
    "            cls.__instance = Singleton()\n",
    "        return cls.__instance"
   ]
  },
  {
   "cell_type": "code",
   "execution_count": 2,
   "metadata": {},
   "outputs": [
    {
     "name": "stdout",
     "output_type": "stream",
     "text": [
      " __init__ method called..\n",
      " __init__ method called..\n",
      "Object created <__main__.Singleton object at 0x7f8010143280>\n",
      "Instance already created: <__main__.Singleton object at 0x7f8010143280>\n"
     ]
    }
   ],
   "source": [
    "s = Singleton() ## class initialized, but object not created\n",
    "print(\"Object created\", Singleton.getInstance()) # Object gets created\n",
    "s1 = Singleton() ## instance already created"
   ]
  },
  {
   "cell_type": "markdown",
   "metadata": {},
   "source": [
    "Все модули в Python по умолчанию Singleton. Когда импортируется модуль идет проверка не импортирован ли модуль раньше, если он был импортирован то снова он импортироваться не будет."
   ]
  },
  {
   "cell_type": "markdown",
   "metadata": {},
   "source": [
    "# Синглтоны и метаклассы\n",
    "Метакласс — это классы, экземпляры которых являются классами.  \n",
    "С помощью метаклассов программисты получают возможность создавать классы своего собственного типа из  \n",
    "предопределенных классов Python.  Например, если у вас есть объект MyClass, вы можете создать метакласс MyKls,  который переопределяет поведение MyClass так, как вам нужно. \n",
    "Что бы было понятнее можно сказать что, метакласс это такая штука, которая создают объекты-классы.  В Python все является объектом.  Если мы пишем a = 5, тогда type(a) возвращает <type ‘int’>, что означает, что переменная a имеет тип int. Однако type(int) возвращает <type ‘type’>, что означает наличие метакласса, поскольку int является классом типа type.  \n",
    "Определение класса определяется его метаклассом, поэтому, когда мы хотим создать класс с помощью строки кода  class A…, Python создает его с помощью A = type (name, base, dict), где:  \n",
    "• name: это название класса  \n",
    "• base: это базовый класс  \n",
    "• dict: это атрибуты класса    \n",
    "Теперь, если у класса есть предопределенный метакласс (по имени MetaKls),  Python создает класс с помощью A = MetaKls(name, base, dict).   \n",
    "Рассмотрим пример реализации метакласса"
   ]
  },
  {
   "cell_type": "code",
   "execution_count": 5,
   "metadata": {},
   "outputs": [
    {
     "name": "stdout",
     "output_type": "stream",
     "text": [
      "***** Here's My int ***** (4, 5)\n",
      "Now do whatever you want with these objects...\n"
     ]
    }
   ],
   "source": [
    "class MyInt(type):\n",
    "    def __call__(cls, *args, **kwds):\n",
    "        print(\"***** Here's My int *****\", args)\n",
    "        print(\"Now do whatever you want with these objects...\")\n",
    "        return type.__call__(cls, *args, **kwds)\n",
    "    \n",
    "class int(metaclass=MyInt):\n",
    "    def __init__(self, x, y):\n",
    "        self.x = x\n",
    "        self.y = y\n",
    "        \n",
    "i = int(4,5)"
   ]
  },
  {
   "cell_type": "markdown",
   "metadata": {},
   "source": [
    "Специальный метод Python __call__ вызывается, когда необходимо создать объект для уже существующего класса.  \n",
    "В этом коде, когда мы создаем экземпляр класса int с помощью int(4,5), вызывается метод __call__ метакласса MyInt,  \n",
    "что означает, что метакласс теперь управляет созданием объекта.  \n",
    "Что то похожее что мы рассматривали раньше в шаблоне Singleton.  \n",
    "Поскольку метакласс имеет больший контроль над созданием классов и созданием объектов,  \n",
    "его можно использовать для создания синглетонов.  \n",
    "Для управления созданием и инициализацией класса в метаклассах переопределяют методы __new__ и __init__."
   ]
  },
  {
   "cell_type": "markdown",
   "id": "407d38df",
   "metadata": {},
   "source": [
    "# Вариант 3  \n",
    "Создание Singleton с помощью метаклассов."
   ]
  },
  {
   "cell_type": "code",
   "execution_count": 6,
   "id": "87f659bf",
   "metadata": {},
   "outputs": [],
   "source": [
    "import sqlite3\n",
    "class MetaSingleton(type):\n",
    "    _instances = {}\n",
    "    def __call__(cls, *args, **kwargs):\n",
    "        if cls not in cls._instances:\n",
    "            cls._instances[cls] = super(MetaSingleton, cls).__call__(*args, **kwargs)\n",
    "        return cls._instances[cls]\n",
    "    \n",
    "class Database(metaclass=MetaSingleton):\n",
    "    connection = None\n",
    "    def connect(self):\n",
    "        if self.connection is None:\n",
    "            self.connection = sqlite3.connect(\"db.sqlite3\")\n",
    "            self.cursorobj = self.connection.cursor()\n",
    "        return self.cursorobj\n",
    "    \n"
   ]
  },
  {
   "cell_type": "code",
   "execution_count": 7,
   "id": "6a5780f2",
   "metadata": {},
   "outputs": [
    {
     "name": "stdout",
     "output_type": "stream",
     "text": [
      "Database Objects DB1 <sqlite3.Cursor object at 0x7fca4a111b90>\n",
      "Database Objects DB2 <sqlite3.Cursor object at 0x7fca4a111b90>\n"
     ]
    }
   ],
   "source": [
    "db1 = Database().connect()\n",
    "db2 = Database().connect()\n",
    "print (\"Database Objects DB1\", db1)\n",
    "print (\"Database Objects DB2\", db2)"
   ]
  },
  {
   "cell_type": "markdown",
   "id": "ccff6323",
   "metadata": {},
   "source": [
    "# Вариант 4"
   ]
  },
  {
   "cell_type": "code",
   "execution_count": null,
   "id": "77a38eca",
   "metadata": {},
   "outputs": [],
   "source": []
  }
 ],
 "metadata": {
  "kernelspec": {
   "display_name": "Python 3",
   "language": "python",
   "name": "python3"
  },
  "language_info": {
   "codemirror_mode": {
    "name": "ipython",
    "version": 3
   },
   "file_extension": ".py",
   "mimetype": "text/x-python",
   "name": "python",
   "nbconvert_exporter": "python",
   "pygments_lexer": "ipython3",
   "version": "3.8.10"
  }
 },
 "nbformat": 4,
 "nbformat_minor": 5
}
